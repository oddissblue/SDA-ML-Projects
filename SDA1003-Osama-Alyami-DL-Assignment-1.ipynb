{
  "cells": [
    {
      "cell_type": "markdown",
      "source": [
        "__\n",
        "\n",
        "<p style=\"text-align: center;\"><img src=\"https://docs.google.com/uc?id=1lY0Uj5R04yMY3-ZppPWxqCr5pvBLYPnV\" class=\"img-fluid\" alt=\"CLRSWY\"></p>\n",
        "\n",
        "___"
      ],
      "metadata": {
        "id": "ftkDCojqYY4K"
      },
      "id": "ftkDCojqYY4K"
    },
    {
      "cell_type": "markdown",
      "source": [
        "<h1 style=\"text-align: center;\">Deep Learning<br><br>Assignment-1 (ANN)<br><br>Churn Prediction for Bank Customer<br><h1>"
      ],
      "metadata": {
        "id": "AouJDVHVYclc"
      },
      "id": "AouJDVHVYclc"
    },
    {
      "cell_type": "markdown",
      "source": [
        "# Dataset Info"
      ],
      "metadata": {
        "id": "arCfrKtBYfTI"
      },
      "id": "arCfrKtBYfTI"
    },
    {
      "cell_type": "markdown",
      "source": [
        "We have a dataset in which there are details of a bank's customers and the target variable is a binary variable reflecting the fact whether the customer left the bank (closed his account) or he continues to be a customer.\n",
        "\n",
        "The features in the given dataset are:\n",
        "- **rownumber:** Row Numbers from 1 to 10000.\n",
        "- **customerid:** A unique ID that identifies each customer.\n",
        "- **surname:** The customer’s surname.\n",
        "- **creditscore:** A credit score is a number between 300–850 that depicts a consumer's creditworthiness.\n",
        "- **geography:** The country from which the customer belongs to.\n",
        "- **Gender:** The customer’s gender: Male, Female\n",
        "- **Age:** The customer’s current age, in years, at the time of being customer.\n",
        "- **tenure:** The number of years for which the customer has been with the bank.\n",
        "- **balance:** Bank balance of the customer.\n",
        "- **numofproducts:** the number of bank products the customer is utilising.\n",
        "- **hascrcard:** The number of credit cards given to the customer by the bank.\n",
        "- **isactivemember:** Binary Flag for indicating if the client is active or not with the bank before the moment where the client exits the company (recorded in the variable \"exited\")\n",
        "- **exited:** Binary flag 1 if the customer closed account with bank and 0 if the customer is retained."
      ],
      "metadata": {
        "id": "8duhabDaYh5f"
      },
      "id": "8duhabDaYh5f"
    },
    {
      "cell_type": "markdown",
      "source": [
        "# Improt Libraries & Data"
      ],
      "metadata": {
        "id": "LTac8l1jYkfv"
      },
      "id": "LTac8l1jYkfv"
    },
    {
      "cell_type": "code",
      "execution_count": 1,
      "id": "e93bbd6d",
      "metadata": {
        "execution": {
          "iopub.execute_input": "2022-05-27T15:04:13.812970Z",
          "iopub.status.busy": "2022-05-27T15:04:13.812491Z",
          "iopub.status.idle": "2022-05-27T15:04:13.822237Z",
          "shell.execute_reply": "2022-05-27T15:04:13.821602Z"
        },
        "papermill": {
          "duration": 0.027406,
          "end_time": "2022-05-27T15:04:13.823938",
          "exception": false,
          "start_time": "2022-05-27T15:04:13.796532",
          "status": "completed"
        },
        "tags": [],
        "id": "e93bbd6d"
      },
      "outputs": [],
      "source": [
        "import pandas as pd\n",
        "import numpy as np"
      ]
    },
    {
      "cell_type": "code",
      "execution_count": 2,
      "id": "2a374bdb",
      "metadata": {
        "execution": {
          "iopub.execute_input": "2022-05-27T15:04:13.850501Z",
          "iopub.status.busy": "2022-05-27T15:04:13.850253Z",
          "iopub.status.idle": "2022-05-27T15:04:13.895320Z",
          "shell.execute_reply": "2022-05-27T15:04:13.894599Z"
        },
        "papermill": {
          "duration": 0.060244,
          "end_time": "2022-05-27T15:04:13.897210",
          "exception": false,
          "start_time": "2022-05-27T15:04:13.836966",
          "status": "completed"
        },
        "tags": [],
        "id": "2a374bdb"
      },
      "outputs": [],
      "source": [
        "df = pd.read_csv('Churn_Modelling.csv')"
      ]
    },
    {
      "cell_type": "markdown",
      "source": [
        "# Exploratory Data Analysis and Visualization"
      ],
      "metadata": {
        "id": "edZh-dnkYp3X"
      },
      "id": "edZh-dnkYp3X"
    },
    {
      "cell_type": "markdown",
      "source": [
        "1. Implement basic steps to see how is your data looks like\n",
        "2. Check for missing values\n",
        "3. Drop the features that not suitable for modelling\n",
        "4. Implement basic visualization steps such as histogram, countplot, heatmap\n",
        "5. Convert categorical variables to dummy variables"
      ],
      "metadata": {
        "id": "QtkYf3cKYttu"
      },
      "id": "QtkYf3cKYttu"
    },
    {
      "cell_type": "code",
      "execution_count": 3,
      "id": "ce97bbe1",
      "metadata": {
        "execution": {
          "iopub.execute_input": "2022-05-27T15:04:13.924137Z",
          "iopub.status.busy": "2022-05-27T15:04:13.923423Z",
          "iopub.status.idle": "2022-05-27T15:04:13.943014Z",
          "shell.execute_reply": "2022-05-27T15:04:13.942346Z"
        },
        "papermill": {
          "duration": 0.035147,
          "end_time": "2022-05-27T15:04:13.945050",
          "exception": false,
          "start_time": "2022-05-27T15:04:13.909903",
          "status": "completed"
        },
        "tags": [],
        "colab": {
          "base_uri": "https://localhost:8080/",
          "height": 163
        },
        "id": "ce97bbe1",
        "outputId": "04ab5467-f31a-4b4f-e02e-8fd3878756ab"
      },
      "outputs": [
        {
          "output_type": "execute_result",
          "data": {
            "text/plain": [
              "   RowNumber  CustomerId   Surname  CreditScore Geography  Gender  Age  \\\n",
              "0          1    15634602  Hargrave          619    France  Female   42   \n",
              "1          2    15647311      Hill          608     Spain  Female   41   \n",
              "2          3    15619304      Onio          502    France  Female   42   \n",
              "\n",
              "   Tenure    Balance  NumOfProducts  HasCrCard  IsActiveMember  \\\n",
              "0       2       0.00              1          1               1   \n",
              "1       1   83807.86              1          0               1   \n",
              "2       8  159660.80              3          1               0   \n",
              "\n",
              "   EstimatedSalary  Exited  \n",
              "0        101348.88       1  \n",
              "1        112542.58       0  \n",
              "2        113931.57       1  "
            ],
            "text/html": [
              "\n",
              "  <div id=\"df-5d1c37ba-2385-4ae2-8a9c-767204ae40f4\" class=\"colab-df-container\">\n",
              "    <div>\n",
              "<style scoped>\n",
              "    .dataframe tbody tr th:only-of-type {\n",
              "        vertical-align: middle;\n",
              "    }\n",
              "\n",
              "    .dataframe tbody tr th {\n",
              "        vertical-align: top;\n",
              "    }\n",
              "\n",
              "    .dataframe thead th {\n",
              "        text-align: right;\n",
              "    }\n",
              "</style>\n",
              "<table border=\"1\" class=\"dataframe\">\n",
              "  <thead>\n",
              "    <tr style=\"text-align: right;\">\n",
              "      <th></th>\n",
              "      <th>RowNumber</th>\n",
              "      <th>CustomerId</th>\n",
              "      <th>Surname</th>\n",
              "      <th>CreditScore</th>\n",
              "      <th>Geography</th>\n",
              "      <th>Gender</th>\n",
              "      <th>Age</th>\n",
              "      <th>Tenure</th>\n",
              "      <th>Balance</th>\n",
              "      <th>NumOfProducts</th>\n",
              "      <th>HasCrCard</th>\n",
              "      <th>IsActiveMember</th>\n",
              "      <th>EstimatedSalary</th>\n",
              "      <th>Exited</th>\n",
              "    </tr>\n",
              "  </thead>\n",
              "  <tbody>\n",
              "    <tr>\n",
              "      <th>0</th>\n",
              "      <td>1</td>\n",
              "      <td>15634602</td>\n",
              "      <td>Hargrave</td>\n",
              "      <td>619</td>\n",
              "      <td>France</td>\n",
              "      <td>Female</td>\n",
              "      <td>42</td>\n",
              "      <td>2</td>\n",
              "      <td>0.00</td>\n",
              "      <td>1</td>\n",
              "      <td>1</td>\n",
              "      <td>1</td>\n",
              "      <td>101348.88</td>\n",
              "      <td>1</td>\n",
              "    </tr>\n",
              "    <tr>\n",
              "      <th>1</th>\n",
              "      <td>2</td>\n",
              "      <td>15647311</td>\n",
              "      <td>Hill</td>\n",
              "      <td>608</td>\n",
              "      <td>Spain</td>\n",
              "      <td>Female</td>\n",
              "      <td>41</td>\n",
              "      <td>1</td>\n",
              "      <td>83807.86</td>\n",
              "      <td>1</td>\n",
              "      <td>0</td>\n",
              "      <td>1</td>\n",
              "      <td>112542.58</td>\n",
              "      <td>0</td>\n",
              "    </tr>\n",
              "    <tr>\n",
              "      <th>2</th>\n",
              "      <td>3</td>\n",
              "      <td>15619304</td>\n",
              "      <td>Onio</td>\n",
              "      <td>502</td>\n",
              "      <td>France</td>\n",
              "      <td>Female</td>\n",
              "      <td>42</td>\n",
              "      <td>8</td>\n",
              "      <td>159660.80</td>\n",
              "      <td>3</td>\n",
              "      <td>1</td>\n",
              "      <td>0</td>\n",
              "      <td>113931.57</td>\n",
              "      <td>1</td>\n",
              "    </tr>\n",
              "  </tbody>\n",
              "</table>\n",
              "</div>\n",
              "    <div class=\"colab-df-buttons\">\n",
              "\n",
              "  <div class=\"colab-df-container\">\n",
              "    <button class=\"colab-df-convert\" onclick=\"convertToInteractive('df-5d1c37ba-2385-4ae2-8a9c-767204ae40f4')\"\n",
              "            title=\"Convert this dataframe to an interactive table.\"\n",
              "            style=\"display:none;\">\n",
              "\n",
              "  <svg xmlns=\"http://www.w3.org/2000/svg\" height=\"24px\" viewBox=\"0 -960 960 960\">\n",
              "    <path d=\"M120-120v-720h720v720H120Zm60-500h600v-160H180v160Zm220 220h160v-160H400v160Zm0 220h160v-160H400v160ZM180-400h160v-160H180v160Zm440 0h160v-160H620v160ZM180-180h160v-160H180v160Zm440 0h160v-160H620v160Z\"/>\n",
              "  </svg>\n",
              "    </button>\n",
              "\n",
              "  <style>\n",
              "    .colab-df-container {\n",
              "      display:flex;\n",
              "      gap: 12px;\n",
              "    }\n",
              "\n",
              "    .colab-df-convert {\n",
              "      background-color: #E8F0FE;\n",
              "      border: none;\n",
              "      border-radius: 50%;\n",
              "      cursor: pointer;\n",
              "      display: none;\n",
              "      fill: #1967D2;\n",
              "      height: 32px;\n",
              "      padding: 0 0 0 0;\n",
              "      width: 32px;\n",
              "    }\n",
              "\n",
              "    .colab-df-convert:hover {\n",
              "      background-color: #E2EBFA;\n",
              "      box-shadow: 0px 1px 2px rgba(60, 64, 67, 0.3), 0px 1px 3px 1px rgba(60, 64, 67, 0.15);\n",
              "      fill: #174EA6;\n",
              "    }\n",
              "\n",
              "    .colab-df-buttons div {\n",
              "      margin-bottom: 4px;\n",
              "    }\n",
              "\n",
              "    [theme=dark] .colab-df-convert {\n",
              "      background-color: #3B4455;\n",
              "      fill: #D2E3FC;\n",
              "    }\n",
              "\n",
              "    [theme=dark] .colab-df-convert:hover {\n",
              "      background-color: #434B5C;\n",
              "      box-shadow: 0px 1px 3px 1px rgba(0, 0, 0, 0.15);\n",
              "      filter: drop-shadow(0px 1px 2px rgba(0, 0, 0, 0.3));\n",
              "      fill: #FFFFFF;\n",
              "    }\n",
              "  </style>\n",
              "\n",
              "    <script>\n",
              "      const buttonEl =\n",
              "        document.querySelector('#df-5d1c37ba-2385-4ae2-8a9c-767204ae40f4 button.colab-df-convert');\n",
              "      buttonEl.style.display =\n",
              "        google.colab.kernel.accessAllowed ? 'block' : 'none';\n",
              "\n",
              "      async function convertToInteractive(key) {\n",
              "        const element = document.querySelector('#df-5d1c37ba-2385-4ae2-8a9c-767204ae40f4');\n",
              "        const dataTable =\n",
              "          await google.colab.kernel.invokeFunction('convertToInteractive',\n",
              "                                                    [key], {});\n",
              "        if (!dataTable) return;\n",
              "\n",
              "        const docLinkHtml = 'Like what you see? Visit the ' +\n",
              "          '<a target=\"_blank\" href=https://colab.research.google.com/notebooks/data_table.ipynb>data table notebook</a>'\n",
              "          + ' to learn more about interactive tables.';\n",
              "        element.innerHTML = '';\n",
              "        dataTable['output_type'] = 'display_data';\n",
              "        await google.colab.output.renderOutput(dataTable, element);\n",
              "        const docLink = document.createElement('div');\n",
              "        docLink.innerHTML = docLinkHtml;\n",
              "        element.appendChild(docLink);\n",
              "      }\n",
              "    </script>\n",
              "  </div>\n",
              "\n",
              "\n",
              "<div id=\"df-ddc20e2c-962e-4d20-bd51-23b366948348\">\n",
              "  <button class=\"colab-df-quickchart\" onclick=\"quickchart('df-ddc20e2c-962e-4d20-bd51-23b366948348')\"\n",
              "            title=\"Suggest charts.\"\n",
              "            style=\"display:none;\">\n",
              "\n",
              "<svg xmlns=\"http://www.w3.org/2000/svg\" height=\"24px\"viewBox=\"0 0 24 24\"\n",
              "     width=\"24px\">\n",
              "    <g>\n",
              "        <path d=\"M19 3H5c-1.1 0-2 .9-2 2v14c0 1.1.9 2 2 2h14c1.1 0 2-.9 2-2V5c0-1.1-.9-2-2-2zM9 17H7v-7h2v7zm4 0h-2V7h2v10zm4 0h-2v-4h2v4z\"/>\n",
              "    </g>\n",
              "</svg>\n",
              "  </button>\n",
              "\n",
              "<style>\n",
              "  .colab-df-quickchart {\n",
              "      --bg-color: #E8F0FE;\n",
              "      --fill-color: #1967D2;\n",
              "      --hover-bg-color: #E2EBFA;\n",
              "      --hover-fill-color: #174EA6;\n",
              "      --disabled-fill-color: #AAA;\n",
              "      --disabled-bg-color: #DDD;\n",
              "  }\n",
              "\n",
              "  [theme=dark] .colab-df-quickchart {\n",
              "      --bg-color: #3B4455;\n",
              "      --fill-color: #D2E3FC;\n",
              "      --hover-bg-color: #434B5C;\n",
              "      --hover-fill-color: #FFFFFF;\n",
              "      --disabled-bg-color: #3B4455;\n",
              "      --disabled-fill-color: #666;\n",
              "  }\n",
              "\n",
              "  .colab-df-quickchart {\n",
              "    background-color: var(--bg-color);\n",
              "    border: none;\n",
              "    border-radius: 50%;\n",
              "    cursor: pointer;\n",
              "    display: none;\n",
              "    fill: var(--fill-color);\n",
              "    height: 32px;\n",
              "    padding: 0;\n",
              "    width: 32px;\n",
              "  }\n",
              "\n",
              "  .colab-df-quickchart:hover {\n",
              "    background-color: var(--hover-bg-color);\n",
              "    box-shadow: 0 1px 2px rgba(60, 64, 67, 0.3), 0 1px 3px 1px rgba(60, 64, 67, 0.15);\n",
              "    fill: var(--button-hover-fill-color);\n",
              "  }\n",
              "\n",
              "  .colab-df-quickchart-complete:disabled,\n",
              "  .colab-df-quickchart-complete:disabled:hover {\n",
              "    background-color: var(--disabled-bg-color);\n",
              "    fill: var(--disabled-fill-color);\n",
              "    box-shadow: none;\n",
              "  }\n",
              "\n",
              "  .colab-df-spinner {\n",
              "    border: 2px solid var(--fill-color);\n",
              "    border-color: transparent;\n",
              "    border-bottom-color: var(--fill-color);\n",
              "    animation:\n",
              "      spin 1s steps(1) infinite;\n",
              "  }\n",
              "\n",
              "  @keyframes spin {\n",
              "    0% {\n",
              "      border-color: transparent;\n",
              "      border-bottom-color: var(--fill-color);\n",
              "      border-left-color: var(--fill-color);\n",
              "    }\n",
              "    20% {\n",
              "      border-color: transparent;\n",
              "      border-left-color: var(--fill-color);\n",
              "      border-top-color: var(--fill-color);\n",
              "    }\n",
              "    30% {\n",
              "      border-color: transparent;\n",
              "      border-left-color: var(--fill-color);\n",
              "      border-top-color: var(--fill-color);\n",
              "      border-right-color: var(--fill-color);\n",
              "    }\n",
              "    40% {\n",
              "      border-color: transparent;\n",
              "      border-right-color: var(--fill-color);\n",
              "      border-top-color: var(--fill-color);\n",
              "    }\n",
              "    60% {\n",
              "      border-color: transparent;\n",
              "      border-right-color: var(--fill-color);\n",
              "    }\n",
              "    80% {\n",
              "      border-color: transparent;\n",
              "      border-right-color: var(--fill-color);\n",
              "      border-bottom-color: var(--fill-color);\n",
              "    }\n",
              "    90% {\n",
              "      border-color: transparent;\n",
              "      border-bottom-color: var(--fill-color);\n",
              "    }\n",
              "  }\n",
              "</style>\n",
              "\n",
              "  <script>\n",
              "    async function quickchart(key) {\n",
              "      const quickchartButtonEl =\n",
              "        document.querySelector('#' + key + ' button');\n",
              "      quickchartButtonEl.disabled = true;  // To prevent multiple clicks.\n",
              "      quickchartButtonEl.classList.add('colab-df-spinner');\n",
              "      try {\n",
              "        const charts = await google.colab.kernel.invokeFunction(\n",
              "            'suggestCharts', [key], {});\n",
              "      } catch (error) {\n",
              "        console.error('Error during call to suggestCharts:', error);\n",
              "      }\n",
              "      quickchartButtonEl.classList.remove('colab-df-spinner');\n",
              "      quickchartButtonEl.classList.add('colab-df-quickchart-complete');\n",
              "    }\n",
              "    (() => {\n",
              "      let quickchartButtonEl =\n",
              "        document.querySelector('#df-ddc20e2c-962e-4d20-bd51-23b366948348 button');\n",
              "      quickchartButtonEl.style.display =\n",
              "        google.colab.kernel.accessAllowed ? 'block' : 'none';\n",
              "    })();\n",
              "  </script>\n",
              "</div>\n",
              "    </div>\n",
              "  </div>\n"
            ]
          },
          "metadata": {},
          "execution_count": 3
        }
      ],
      "source": [
        "df.head(3)"
      ]
    },
    {
      "cell_type": "code",
      "execution_count": 4,
      "id": "a3b79bcd",
      "metadata": {
        "execution": {
          "iopub.execute_input": "2022-05-27T15:04:13.972617Z",
          "iopub.status.busy": "2022-05-27T15:04:13.972225Z",
          "iopub.status.idle": "2022-05-27T15:04:13.981850Z",
          "shell.execute_reply": "2022-05-27T15:04:13.981057Z"
        },
        "papermill": {
          "duration": 0.025244,
          "end_time": "2022-05-27T15:04:13.983600",
          "exception": false,
          "start_time": "2022-05-27T15:04:13.958356",
          "status": "completed"
        },
        "tags": [],
        "id": "a3b79bcd"
      },
      "outputs": [],
      "source": [
        "df.drop(columns=['RowNumber','CustomerId','Surname'],inplace=True)"
      ]
    },
    {
      "cell_type": "code",
      "execution_count": 5,
      "id": "0a7f0b86",
      "metadata": {
        "execution": {
          "iopub.execute_input": "2022-05-27T15:04:14.010393Z",
          "iopub.status.busy": "2022-05-27T15:04:14.009695Z",
          "iopub.status.idle": "2022-05-27T15:04:14.020618Z",
          "shell.execute_reply": "2022-05-27T15:04:14.019842Z"
        },
        "papermill": {
          "duration": 0.025986,
          "end_time": "2022-05-27T15:04:14.022221",
          "exception": false,
          "start_time": "2022-05-27T15:04:13.996235",
          "status": "completed"
        },
        "tags": [],
        "colab": {
          "base_uri": "https://localhost:8080/",
          "height": 132
        },
        "id": "0a7f0b86",
        "outputId": "c06e26d6-7446-40a4-e535-597980becb30"
      },
      "outputs": [
        {
          "output_type": "execute_result",
          "data": {
            "text/plain": [
              "   CreditScore Geography  Gender  Age  Tenure   Balance  NumOfProducts  \\\n",
              "0          619    France  Female   42       2      0.00              1   \n",
              "1          608     Spain  Female   41       1  83807.86              1   \n",
              "\n",
              "   HasCrCard  IsActiveMember  EstimatedSalary  Exited  \n",
              "0          1               1        101348.88       1  \n",
              "1          0               1        112542.58       0  "
            ],
            "text/html": [
              "\n",
              "  <div id=\"df-b3c9b818-f5bc-4fb9-ad2b-cd257161d1df\" class=\"colab-df-container\">\n",
              "    <div>\n",
              "<style scoped>\n",
              "    .dataframe tbody tr th:only-of-type {\n",
              "        vertical-align: middle;\n",
              "    }\n",
              "\n",
              "    .dataframe tbody tr th {\n",
              "        vertical-align: top;\n",
              "    }\n",
              "\n",
              "    .dataframe thead th {\n",
              "        text-align: right;\n",
              "    }\n",
              "</style>\n",
              "<table border=\"1\" class=\"dataframe\">\n",
              "  <thead>\n",
              "    <tr style=\"text-align: right;\">\n",
              "      <th></th>\n",
              "      <th>CreditScore</th>\n",
              "      <th>Geography</th>\n",
              "      <th>Gender</th>\n",
              "      <th>Age</th>\n",
              "      <th>Tenure</th>\n",
              "      <th>Balance</th>\n",
              "      <th>NumOfProducts</th>\n",
              "      <th>HasCrCard</th>\n",
              "      <th>IsActiveMember</th>\n",
              "      <th>EstimatedSalary</th>\n",
              "      <th>Exited</th>\n",
              "    </tr>\n",
              "  </thead>\n",
              "  <tbody>\n",
              "    <tr>\n",
              "      <th>0</th>\n",
              "      <td>619</td>\n",
              "      <td>France</td>\n",
              "      <td>Female</td>\n",
              "      <td>42</td>\n",
              "      <td>2</td>\n",
              "      <td>0.00</td>\n",
              "      <td>1</td>\n",
              "      <td>1</td>\n",
              "      <td>1</td>\n",
              "      <td>101348.88</td>\n",
              "      <td>1</td>\n",
              "    </tr>\n",
              "    <tr>\n",
              "      <th>1</th>\n",
              "      <td>608</td>\n",
              "      <td>Spain</td>\n",
              "      <td>Female</td>\n",
              "      <td>41</td>\n",
              "      <td>1</td>\n",
              "      <td>83807.86</td>\n",
              "      <td>1</td>\n",
              "      <td>0</td>\n",
              "      <td>1</td>\n",
              "      <td>112542.58</td>\n",
              "      <td>0</td>\n",
              "    </tr>\n",
              "  </tbody>\n",
              "</table>\n",
              "</div>\n",
              "    <div class=\"colab-df-buttons\">\n",
              "\n",
              "  <div class=\"colab-df-container\">\n",
              "    <button class=\"colab-df-convert\" onclick=\"convertToInteractive('df-b3c9b818-f5bc-4fb9-ad2b-cd257161d1df')\"\n",
              "            title=\"Convert this dataframe to an interactive table.\"\n",
              "            style=\"display:none;\">\n",
              "\n",
              "  <svg xmlns=\"http://www.w3.org/2000/svg\" height=\"24px\" viewBox=\"0 -960 960 960\">\n",
              "    <path d=\"M120-120v-720h720v720H120Zm60-500h600v-160H180v160Zm220 220h160v-160H400v160Zm0 220h160v-160H400v160ZM180-400h160v-160H180v160Zm440 0h160v-160H620v160ZM180-180h160v-160H180v160Zm440 0h160v-160H620v160Z\"/>\n",
              "  </svg>\n",
              "    </button>\n",
              "\n",
              "  <style>\n",
              "    .colab-df-container {\n",
              "      display:flex;\n",
              "      gap: 12px;\n",
              "    }\n",
              "\n",
              "    .colab-df-convert {\n",
              "      background-color: #E8F0FE;\n",
              "      border: none;\n",
              "      border-radius: 50%;\n",
              "      cursor: pointer;\n",
              "      display: none;\n",
              "      fill: #1967D2;\n",
              "      height: 32px;\n",
              "      padding: 0 0 0 0;\n",
              "      width: 32px;\n",
              "    }\n",
              "\n",
              "    .colab-df-convert:hover {\n",
              "      background-color: #E2EBFA;\n",
              "      box-shadow: 0px 1px 2px rgba(60, 64, 67, 0.3), 0px 1px 3px 1px rgba(60, 64, 67, 0.15);\n",
              "      fill: #174EA6;\n",
              "    }\n",
              "\n",
              "    .colab-df-buttons div {\n",
              "      margin-bottom: 4px;\n",
              "    }\n",
              "\n",
              "    [theme=dark] .colab-df-convert {\n",
              "      background-color: #3B4455;\n",
              "      fill: #D2E3FC;\n",
              "    }\n",
              "\n",
              "    [theme=dark] .colab-df-convert:hover {\n",
              "      background-color: #434B5C;\n",
              "      box-shadow: 0px 1px 3px 1px rgba(0, 0, 0, 0.15);\n",
              "      filter: drop-shadow(0px 1px 2px rgba(0, 0, 0, 0.3));\n",
              "      fill: #FFFFFF;\n",
              "    }\n",
              "  </style>\n",
              "\n",
              "    <script>\n",
              "      const buttonEl =\n",
              "        document.querySelector('#df-b3c9b818-f5bc-4fb9-ad2b-cd257161d1df button.colab-df-convert');\n",
              "      buttonEl.style.display =\n",
              "        google.colab.kernel.accessAllowed ? 'block' : 'none';\n",
              "\n",
              "      async function convertToInteractive(key) {\n",
              "        const element = document.querySelector('#df-b3c9b818-f5bc-4fb9-ad2b-cd257161d1df');\n",
              "        const dataTable =\n",
              "          await google.colab.kernel.invokeFunction('convertToInteractive',\n",
              "                                                    [key], {});\n",
              "        if (!dataTable) return;\n",
              "\n",
              "        const docLinkHtml = 'Like what you see? Visit the ' +\n",
              "          '<a target=\"_blank\" href=https://colab.research.google.com/notebooks/data_table.ipynb>data table notebook</a>'\n",
              "          + ' to learn more about interactive tables.';\n",
              "        element.innerHTML = '';\n",
              "        dataTable['output_type'] = 'display_data';\n",
              "        await google.colab.output.renderOutput(dataTable, element);\n",
              "        const docLink = document.createElement('div');\n",
              "        docLink.innerHTML = docLinkHtml;\n",
              "        element.appendChild(docLink);\n",
              "      }\n",
              "    </script>\n",
              "  </div>\n",
              "\n",
              "\n",
              "<div id=\"df-4d89212b-41a5-4bbf-b509-7d94c68c82be\">\n",
              "  <button class=\"colab-df-quickchart\" onclick=\"quickchart('df-4d89212b-41a5-4bbf-b509-7d94c68c82be')\"\n",
              "            title=\"Suggest charts.\"\n",
              "            style=\"display:none;\">\n",
              "\n",
              "<svg xmlns=\"http://www.w3.org/2000/svg\" height=\"24px\"viewBox=\"0 0 24 24\"\n",
              "     width=\"24px\">\n",
              "    <g>\n",
              "        <path d=\"M19 3H5c-1.1 0-2 .9-2 2v14c0 1.1.9 2 2 2h14c1.1 0 2-.9 2-2V5c0-1.1-.9-2-2-2zM9 17H7v-7h2v7zm4 0h-2V7h2v10zm4 0h-2v-4h2v4z\"/>\n",
              "    </g>\n",
              "</svg>\n",
              "  </button>\n",
              "\n",
              "<style>\n",
              "  .colab-df-quickchart {\n",
              "      --bg-color: #E8F0FE;\n",
              "      --fill-color: #1967D2;\n",
              "      --hover-bg-color: #E2EBFA;\n",
              "      --hover-fill-color: #174EA6;\n",
              "      --disabled-fill-color: #AAA;\n",
              "      --disabled-bg-color: #DDD;\n",
              "  }\n",
              "\n",
              "  [theme=dark] .colab-df-quickchart {\n",
              "      --bg-color: #3B4455;\n",
              "      --fill-color: #D2E3FC;\n",
              "      --hover-bg-color: #434B5C;\n",
              "      --hover-fill-color: #FFFFFF;\n",
              "      --disabled-bg-color: #3B4455;\n",
              "      --disabled-fill-color: #666;\n",
              "  }\n",
              "\n",
              "  .colab-df-quickchart {\n",
              "    background-color: var(--bg-color);\n",
              "    border: none;\n",
              "    border-radius: 50%;\n",
              "    cursor: pointer;\n",
              "    display: none;\n",
              "    fill: var(--fill-color);\n",
              "    height: 32px;\n",
              "    padding: 0;\n",
              "    width: 32px;\n",
              "  }\n",
              "\n",
              "  .colab-df-quickchart:hover {\n",
              "    background-color: var(--hover-bg-color);\n",
              "    box-shadow: 0 1px 2px rgba(60, 64, 67, 0.3), 0 1px 3px 1px rgba(60, 64, 67, 0.15);\n",
              "    fill: var(--button-hover-fill-color);\n",
              "  }\n",
              "\n",
              "  .colab-df-quickchart-complete:disabled,\n",
              "  .colab-df-quickchart-complete:disabled:hover {\n",
              "    background-color: var(--disabled-bg-color);\n",
              "    fill: var(--disabled-fill-color);\n",
              "    box-shadow: none;\n",
              "  }\n",
              "\n",
              "  .colab-df-spinner {\n",
              "    border: 2px solid var(--fill-color);\n",
              "    border-color: transparent;\n",
              "    border-bottom-color: var(--fill-color);\n",
              "    animation:\n",
              "      spin 1s steps(1) infinite;\n",
              "  }\n",
              "\n",
              "  @keyframes spin {\n",
              "    0% {\n",
              "      border-color: transparent;\n",
              "      border-bottom-color: var(--fill-color);\n",
              "      border-left-color: var(--fill-color);\n",
              "    }\n",
              "    20% {\n",
              "      border-color: transparent;\n",
              "      border-left-color: var(--fill-color);\n",
              "      border-top-color: var(--fill-color);\n",
              "    }\n",
              "    30% {\n",
              "      border-color: transparent;\n",
              "      border-left-color: var(--fill-color);\n",
              "      border-top-color: var(--fill-color);\n",
              "      border-right-color: var(--fill-color);\n",
              "    }\n",
              "    40% {\n",
              "      border-color: transparent;\n",
              "      border-right-color: var(--fill-color);\n",
              "      border-top-color: var(--fill-color);\n",
              "    }\n",
              "    60% {\n",
              "      border-color: transparent;\n",
              "      border-right-color: var(--fill-color);\n",
              "    }\n",
              "    80% {\n",
              "      border-color: transparent;\n",
              "      border-right-color: var(--fill-color);\n",
              "      border-bottom-color: var(--fill-color);\n",
              "    }\n",
              "    90% {\n",
              "      border-color: transparent;\n",
              "      border-bottom-color: var(--fill-color);\n",
              "    }\n",
              "  }\n",
              "</style>\n",
              "\n",
              "  <script>\n",
              "    async function quickchart(key) {\n",
              "      const quickchartButtonEl =\n",
              "        document.querySelector('#' + key + ' button');\n",
              "      quickchartButtonEl.disabled = true;  // To prevent multiple clicks.\n",
              "      quickchartButtonEl.classList.add('colab-df-spinner');\n",
              "      try {\n",
              "        const charts = await google.colab.kernel.invokeFunction(\n",
              "            'suggestCharts', [key], {});\n",
              "      } catch (error) {\n",
              "        console.error('Error during call to suggestCharts:', error);\n",
              "      }\n",
              "      quickchartButtonEl.classList.remove('colab-df-spinner');\n",
              "      quickchartButtonEl.classList.add('colab-df-quickchart-complete');\n",
              "    }\n",
              "    (() => {\n",
              "      let quickchartButtonEl =\n",
              "        document.querySelector('#df-4d89212b-41a5-4bbf-b509-7d94c68c82be button');\n",
              "      quickchartButtonEl.style.display =\n",
              "        google.colab.kernel.accessAllowed ? 'block' : 'none';\n",
              "    })();\n",
              "  </script>\n",
              "</div>\n",
              "    </div>\n",
              "  </div>\n"
            ]
          },
          "metadata": {},
          "execution_count": 5
        }
      ],
      "source": [
        "df.head(2)"
      ]
    },
    {
      "cell_type": "code",
      "execution_count": 6,
      "id": "1c244d39",
      "metadata": {
        "execution": {
          "iopub.execute_input": "2022-05-27T15:04:14.049633Z",
          "iopub.status.busy": "2022-05-27T15:04:14.049034Z",
          "iopub.status.idle": "2022-05-27T15:04:14.053836Z",
          "shell.execute_reply": "2022-05-27T15:04:14.053156Z"
        },
        "papermill": {
          "duration": 0.020026,
          "end_time": "2022-05-27T15:04:14.055378",
          "exception": false,
          "start_time": "2022-05-27T15:04:14.035352",
          "status": "completed"
        },
        "tags": [],
        "colab": {
          "base_uri": "https://localhost:8080/"
        },
        "id": "1c244d39",
        "outputId": "55df038a-7d61-4e52-9119-0ddf526522a0"
      },
      "outputs": [
        {
          "output_type": "execute_result",
          "data": {
            "text/plain": [
              "(10000, 11)"
            ]
          },
          "metadata": {},
          "execution_count": 6
        }
      ],
      "source": [
        "df.shape"
      ]
    },
    {
      "cell_type": "code",
      "execution_count": 7,
      "id": "50462863",
      "metadata": {
        "execution": {
          "iopub.execute_input": "2022-05-27T15:04:14.082858Z",
          "iopub.status.busy": "2022-05-27T15:04:14.082363Z",
          "iopub.status.idle": "2022-05-27T15:04:14.101470Z",
          "shell.execute_reply": "2022-05-27T15:04:14.100661Z"
        },
        "papermill": {
          "duration": 0.03484,
          "end_time": "2022-05-27T15:04:14.103045",
          "exception": false,
          "start_time": "2022-05-27T15:04:14.068205",
          "status": "completed"
        },
        "tags": [],
        "colab": {
          "base_uri": "https://localhost:8080/"
        },
        "id": "50462863",
        "outputId": "a868d177-5dc8-45e2-e575-f1baa0ea27d2"
      },
      "outputs": [
        {
          "output_type": "execute_result",
          "data": {
            "text/plain": [
              "0"
            ]
          },
          "metadata": {},
          "execution_count": 7
        }
      ],
      "source": [
        "df.duplicated().sum()"
      ]
    },
    {
      "cell_type": "code",
      "execution_count": 8,
      "id": "8d4c97a1",
      "metadata": {
        "execution": {
          "iopub.execute_input": "2022-05-27T15:04:14.131366Z",
          "iopub.status.busy": "2022-05-27T15:04:14.130781Z",
          "iopub.status.idle": "2022-05-27T15:04:14.149098Z",
          "shell.execute_reply": "2022-05-27T15:04:14.148322Z"
        },
        "papermill": {
          "duration": 0.035554,
          "end_time": "2022-05-27T15:04:14.151799",
          "exception": false,
          "start_time": "2022-05-27T15:04:14.116245",
          "status": "completed"
        },
        "tags": [],
        "colab": {
          "base_uri": "https://localhost:8080/"
        },
        "id": "8d4c97a1",
        "outputId": "15b1181c-94b9-40a3-e3d8-1ee88a2dba88"
      },
      "outputs": [
        {
          "output_type": "stream",
          "name": "stdout",
          "text": [
            "<class 'pandas.core.frame.DataFrame'>\n",
            "RangeIndex: 10000 entries, 0 to 9999\n",
            "Data columns (total 11 columns):\n",
            " #   Column           Non-Null Count  Dtype  \n",
            "---  ------           --------------  -----  \n",
            " 0   CreditScore      10000 non-null  int64  \n",
            " 1   Geography        10000 non-null  object \n",
            " 2   Gender           10000 non-null  object \n",
            " 3   Age              10000 non-null  int64  \n",
            " 4   Tenure           10000 non-null  int64  \n",
            " 5   Balance          10000 non-null  float64\n",
            " 6   NumOfProducts    10000 non-null  int64  \n",
            " 7   HasCrCard        10000 non-null  int64  \n",
            " 8   IsActiveMember   10000 non-null  int64  \n",
            " 9   EstimatedSalary  10000 non-null  float64\n",
            " 10  Exited           10000 non-null  int64  \n",
            "dtypes: float64(2), int64(7), object(2)\n",
            "memory usage: 859.5+ KB\n"
          ]
        }
      ],
      "source": [
        "df.info()"
      ]
    },
    {
      "cell_type": "markdown",
      "id": "b7952668",
      "metadata": {
        "papermill": {
          "duration": 0.013076,
          "end_time": "2022-05-27T15:04:14.178866",
          "exception": false,
          "start_time": "2022-05-27T15:04:14.165790",
          "status": "completed"
        },
        "tags": [],
        "id": "b7952668"
      },
      "source": [
        "#### Note:  I an not doing the visualization here as I already done in another notebook. just applying ANN here"
      ]
    },
    {
      "cell_type": "code",
      "execution_count": 9,
      "id": "1f79c8fa",
      "metadata": {
        "execution": {
          "iopub.execute_input": "2022-05-27T15:04:14.206278Z",
          "iopub.status.busy": "2022-05-27T15:04:14.206022Z",
          "iopub.status.idle": "2022-05-27T15:04:14.213523Z",
          "shell.execute_reply": "2022-05-27T15:04:14.212827Z"
        },
        "papermill": {
          "duration": 0.023137,
          "end_time": "2022-05-27T15:04:14.215206",
          "exception": false,
          "start_time": "2022-05-27T15:04:14.192069",
          "status": "completed"
        },
        "tags": [],
        "colab": {
          "base_uri": "https://localhost:8080/"
        },
        "id": "1f79c8fa",
        "outputId": "c8c83d3f-4fe2-4855-8aa7-f6db393b15a9"
      },
      "outputs": [
        {
          "output_type": "execute_result",
          "data": {
            "text/plain": [
              "0    7963\n",
              "1    2037\n",
              "Name: Exited, dtype: int64"
            ]
          },
          "metadata": {},
          "execution_count": 9
        }
      ],
      "source": [
        "df['Exited'].value_counts()"
      ]
    },
    {
      "cell_type": "code",
      "execution_count": 10,
      "id": "c8f3037b",
      "metadata": {
        "execution": {
          "iopub.execute_input": "2022-05-27T15:04:14.243431Z",
          "iopub.status.busy": "2022-05-27T15:04:14.242951Z",
          "iopub.status.idle": "2022-05-27T15:04:14.251814Z",
          "shell.execute_reply": "2022-05-27T15:04:14.251130Z"
        },
        "papermill": {
          "duration": 0.024945,
          "end_time": "2022-05-27T15:04:14.253485",
          "exception": false,
          "start_time": "2022-05-27T15:04:14.228540",
          "status": "completed"
        },
        "tags": [],
        "colab": {
          "base_uri": "https://localhost:8080/"
        },
        "id": "c8f3037b",
        "outputId": "58e284f5-6b10-424f-9204-ff7f6b7b32eb"
      },
      "outputs": [
        {
          "output_type": "execute_result",
          "data": {
            "text/plain": [
              "France     5014\n",
              "Germany    2509\n",
              "Spain      2477\n",
              "Name: Geography, dtype: int64"
            ]
          },
          "metadata": {},
          "execution_count": 10
        }
      ],
      "source": [
        "df['Geography'].value_counts()"
      ]
    },
    {
      "cell_type": "code",
      "execution_count": 11,
      "id": "e8b73b30",
      "metadata": {
        "execution": {
          "iopub.execute_input": "2022-05-27T15:04:14.281810Z",
          "iopub.status.busy": "2022-05-27T15:04:14.281117Z",
          "iopub.status.idle": "2022-05-27T15:04:14.288403Z",
          "shell.execute_reply": "2022-05-27T15:04:14.287624Z"
        },
        "papermill": {
          "duration": 0.02297,
          "end_time": "2022-05-27T15:04:14.289961",
          "exception": false,
          "start_time": "2022-05-27T15:04:14.266991",
          "status": "completed"
        },
        "tags": [],
        "colab": {
          "base_uri": "https://localhost:8080/"
        },
        "id": "e8b73b30",
        "outputId": "15fe9405-13fc-4431-9ec9-2ecccd32f16d"
      },
      "outputs": [
        {
          "output_type": "execute_result",
          "data": {
            "text/plain": [
              "Male      5457\n",
              "Female    4543\n",
              "Name: Gender, dtype: int64"
            ]
          },
          "metadata": {},
          "execution_count": 11
        }
      ],
      "source": [
        "df['Gender'].value_counts()"
      ]
    },
    {
      "cell_type": "code",
      "execution_count": 12,
      "id": "1d73d4f3",
      "metadata": {
        "execution": {
          "iopub.execute_input": "2022-05-27T15:04:14.317811Z",
          "iopub.status.busy": "2022-05-27T15:04:14.317568Z",
          "iopub.status.idle": "2022-05-27T15:04:14.324018Z",
          "shell.execute_reply": "2022-05-27T15:04:14.323240Z"
        },
        "papermill": {
          "duration": 0.022227,
          "end_time": "2022-05-27T15:04:14.325606",
          "exception": false,
          "start_time": "2022-05-27T15:04:14.303379",
          "status": "completed"
        },
        "tags": [],
        "colab": {
          "base_uri": "https://localhost:8080/"
        },
        "id": "1d73d4f3",
        "outputId": "0bde97d9-c003-47b3-d2b9-fb962344a864"
      },
      "outputs": [
        {
          "output_type": "execute_result",
          "data": {
            "text/plain": [
              "1    5084\n",
              "2    4590\n",
              "3     266\n",
              "4      60\n",
              "Name: NumOfProducts, dtype: int64"
            ]
          },
          "metadata": {},
          "execution_count": 12
        }
      ],
      "source": [
        "df['NumOfProducts'].value_counts()"
      ]
    },
    {
      "cell_type": "code",
      "execution_count": 13,
      "id": "b0607fa8",
      "metadata": {
        "execution": {
          "iopub.execute_input": "2022-05-27T15:04:14.354020Z",
          "iopub.status.busy": "2022-05-27T15:04:14.353327Z",
          "iopub.status.idle": "2022-05-27T15:04:14.359463Z",
          "shell.execute_reply": "2022-05-27T15:04:14.358697Z"
        },
        "papermill": {
          "duration": 0.022062,
          "end_time": "2022-05-27T15:04:14.361069",
          "exception": false,
          "start_time": "2022-05-27T15:04:14.339007",
          "status": "completed"
        },
        "tags": [],
        "colab": {
          "base_uri": "https://localhost:8080/"
        },
        "id": "b0607fa8",
        "outputId": "b4d24cf6-0c4b-4af1-f73f-3f4e20b112b8"
      },
      "outputs": [
        {
          "output_type": "execute_result",
          "data": {
            "text/plain": [
              "1    7055\n",
              "0    2945\n",
              "Name: HasCrCard, dtype: int64"
            ]
          },
          "metadata": {},
          "execution_count": 13
        }
      ],
      "source": [
        "df['HasCrCard'].value_counts()"
      ]
    },
    {
      "cell_type": "code",
      "execution_count": 14,
      "id": "e6bc5273",
      "metadata": {
        "execution": {
          "iopub.execute_input": "2022-05-27T15:04:14.389317Z",
          "iopub.status.busy": "2022-05-27T15:04:14.388831Z",
          "iopub.status.idle": "2022-05-27T15:04:14.395166Z",
          "shell.execute_reply": "2022-05-27T15:04:14.394401Z"
        },
        "papermill": {
          "duration": 0.022202,
          "end_time": "2022-05-27T15:04:14.396773",
          "exception": false,
          "start_time": "2022-05-27T15:04:14.374571",
          "status": "completed"
        },
        "tags": [],
        "colab": {
          "base_uri": "https://localhost:8080/"
        },
        "id": "e6bc5273",
        "outputId": "4c4cd3bb-f989-4705-9d13-e16f14b523ff"
      },
      "outputs": [
        {
          "output_type": "execute_result",
          "data": {
            "text/plain": [
              "1    5151\n",
              "0    4849\n",
              "Name: IsActiveMember, dtype: int64"
            ]
          },
          "metadata": {},
          "execution_count": 14
        }
      ],
      "source": [
        "df['IsActiveMember'].value_counts()"
      ]
    },
    {
      "cell_type": "code",
      "execution_count": 15,
      "id": "6f16c727",
      "metadata": {
        "execution": {
          "iopub.execute_input": "2022-05-27T15:04:14.425297Z",
          "iopub.status.busy": "2022-05-27T15:04:14.425045Z",
          "iopub.status.idle": "2022-05-27T15:04:14.435404Z",
          "shell.execute_reply": "2022-05-27T15:04:14.434759Z"
        },
        "papermill": {
          "duration": 0.026487,
          "end_time": "2022-05-27T15:04:14.436911",
          "exception": false,
          "start_time": "2022-05-27T15:04:14.410424",
          "status": "completed"
        },
        "tags": [],
        "id": "6f16c727"
      },
      "outputs": [],
      "source": [
        "df = pd.get_dummies(df,columns=['Gender','Geography'],drop_first=True)"
      ]
    },
    {
      "cell_type": "code",
      "execution_count": 16,
      "id": "34c8c5b0",
      "metadata": {
        "execution": {
          "iopub.execute_input": "2022-05-27T15:04:14.466310Z",
          "iopub.status.busy": "2022-05-27T15:04:14.465460Z",
          "iopub.status.idle": "2022-05-27T15:04:14.470982Z",
          "shell.execute_reply": "2022-05-27T15:04:14.470337Z"
        },
        "papermill": {
          "duration": 0.02202,
          "end_time": "2022-05-27T15:04:14.472552",
          "exception": false,
          "start_time": "2022-05-27T15:04:14.450532",
          "status": "completed"
        },
        "tags": [],
        "id": "34c8c5b0"
      },
      "outputs": [],
      "source": [
        "X = df.drop(columns='Exited')\n",
        "y = df['Exited']"
      ]
    },
    {
      "cell_type": "code",
      "execution_count": 17,
      "id": "fff55677",
      "metadata": {
        "execution": {
          "iopub.execute_input": "2022-05-27T15:04:14.507534Z",
          "iopub.status.busy": "2022-05-27T15:04:14.507210Z",
          "iopub.status.idle": "2022-05-27T15:04:14.519872Z",
          "shell.execute_reply": "2022-05-27T15:04:14.516604Z"
        },
        "papermill": {
          "duration": 0.041008,
          "end_time": "2022-05-27T15:04:14.527197",
          "exception": false,
          "start_time": "2022-05-27T15:04:14.486189",
          "status": "completed"
        },
        "tags": [],
        "colab": {
          "base_uri": "https://localhost:8080/"
        },
        "id": "fff55677",
        "outputId": "a20834fd-4540-4da0-d337-4e373b668500"
      },
      "outputs": [
        {
          "output_type": "execute_result",
          "data": {
            "text/plain": [
              "(10000, 11)"
            ]
          },
          "metadata": {},
          "execution_count": 17
        }
      ],
      "source": [
        "X.shape"
      ]
    },
    {
      "cell_type": "markdown",
      "source": [
        "# Preprocessing of Data\n",
        "- Train | Test Split, Scalling"
      ],
      "metadata": {
        "id": "ppkzCcsAY2rJ"
      },
      "id": "ppkzCcsAY2rJ"
    },
    {
      "cell_type": "code",
      "execution_count": 18,
      "id": "f910e3e4",
      "metadata": {
        "execution": {
          "iopub.execute_input": "2022-05-27T15:04:14.582002Z",
          "iopub.status.busy": "2022-05-27T15:04:14.581659Z",
          "iopub.status.idle": "2022-05-27T15:04:15.555713Z",
          "shell.execute_reply": "2022-05-27T15:04:15.554921Z"
        },
        "papermill": {
          "duration": 1.000802,
          "end_time": "2022-05-27T15:04:15.558132",
          "exception": false,
          "start_time": "2022-05-27T15:04:14.557330",
          "status": "completed"
        },
        "tags": [],
        "id": "f910e3e4"
      },
      "outputs": [],
      "source": [
        "from sklearn.model_selection import train_test_split"
      ]
    },
    {
      "cell_type": "code",
      "execution_count": 19,
      "id": "28aed04f",
      "metadata": {
        "execution": {
          "iopub.execute_input": "2022-05-27T15:04:15.588691Z",
          "iopub.status.busy": "2022-05-27T15:04:15.588393Z",
          "iopub.status.idle": "2022-05-27T15:04:15.596455Z",
          "shell.execute_reply": "2022-05-27T15:04:15.595764Z"
        },
        "papermill": {
          "duration": 0.024486,
          "end_time": "2022-05-27T15:04:15.598092",
          "exception": false,
          "start_time": "2022-05-27T15:04:15.573606",
          "status": "completed"
        },
        "tags": [],
        "id": "28aed04f"
      },
      "outputs": [],
      "source": [
        "X_train,X_test,y_train,y_test = train_test_split(X,y,test_size=0.2,random_state=42)"
      ]
    },
    {
      "cell_type": "code",
      "execution_count": 20,
      "id": "21dc9645",
      "metadata": {
        "execution": {
          "iopub.execute_input": "2022-05-27T15:04:15.626685Z",
          "iopub.status.busy": "2022-05-27T15:04:15.626426Z",
          "iopub.status.idle": "2022-05-27T15:04:15.630005Z",
          "shell.execute_reply": "2022-05-27T15:04:15.629202Z"
        },
        "papermill": {
          "duration": 0.019956,
          "end_time": "2022-05-27T15:04:15.631750",
          "exception": false,
          "start_time": "2022-05-27T15:04:15.611794",
          "status": "completed"
        },
        "tags": [],
        "id": "21dc9645"
      },
      "outputs": [],
      "source": [
        "from sklearn.preprocessing import StandardScaler"
      ]
    },
    {
      "cell_type": "code",
      "execution_count": 21,
      "id": "d53a02ae",
      "metadata": {
        "execution": {
          "iopub.execute_input": "2022-05-27T15:04:15.660301Z",
          "iopub.status.busy": "2022-05-27T15:04:15.660042Z",
          "iopub.status.idle": "2022-05-27T15:04:15.670823Z",
          "shell.execute_reply": "2022-05-27T15:04:15.670190Z"
        },
        "papermill": {
          "duration": 0.026995,
          "end_time": "2022-05-27T15:04:15.672430",
          "exception": false,
          "start_time": "2022-05-27T15:04:15.645435",
          "status": "completed"
        },
        "tags": [],
        "id": "d53a02ae"
      },
      "outputs": [],
      "source": [
        "sc = StandardScaler()\n",
        "X_train = sc.fit_transform(X_train)\n",
        "X_test = sc.transform(X_test)"
      ]
    },
    {
      "cell_type": "markdown",
      "source": [
        "# Modelling & Model Performance"
      ],
      "metadata": {
        "id": "cQP59IdEY9LN"
      },
      "id": "cQP59IdEY9LN"
    },
    {
      "cell_type": "markdown",
      "source": [
        "## without class_weigth"
      ],
      "metadata": {
        "id": "4v4JtJGBY984"
      },
      "id": "4v4JtJGBY984"
    },
    {
      "cell_type": "markdown",
      "source": [
        "### Create The Model"
      ],
      "metadata": {
        "id": "Euc_oUoDZAyJ"
      },
      "id": "Euc_oUoDZAyJ"
    },
    {
      "cell_type": "code",
      "execution_count": 22,
      "id": "1020ff5f",
      "metadata": {
        "execution": {
          "iopub.execute_input": "2022-05-27T15:04:15.701348Z",
          "iopub.status.busy": "2022-05-27T15:04:15.700796Z",
          "iopub.status.idle": "2022-05-27T15:04:20.815445Z",
          "shell.execute_reply": "2022-05-27T15:04:20.814359Z"
        },
        "papermill": {
          "duration": 5.131554,
          "end_time": "2022-05-27T15:04:20.817716",
          "exception": false,
          "start_time": "2022-05-27T15:04:15.686162",
          "status": "completed"
        },
        "tags": [],
        "id": "1020ff5f"
      },
      "outputs": [],
      "source": [
        "import tensorflow\n",
        "from tensorflow.keras import Sequential\n",
        "from tensorflow.keras.layers import Dense,ReLU"
      ]
    },
    {
      "cell_type": "code",
      "execution_count": 23,
      "id": "848bdced",
      "metadata": {
        "execution": {
          "iopub.execute_input": "2022-05-27T15:04:20.847296Z",
          "iopub.status.busy": "2022-05-27T15:04:20.846740Z",
          "iopub.status.idle": "2022-05-27T15:04:23.647208Z",
          "shell.execute_reply": "2022-05-27T15:04:23.646400Z"
        },
        "papermill": {
          "duration": 2.817159,
          "end_time": "2022-05-27T15:04:23.649234",
          "exception": false,
          "start_time": "2022-05-27T15:04:20.832075",
          "status": "completed"
        },
        "tags": [],
        "id": "848bdced"
      },
      "outputs": [],
      "source": [
        "model = Sequential()\n",
        "model.add(Dense(units=10,activation='relu',input_dim=11)) # hidden layer1(10 neurons) with 11 input layers\n",
        "# model.add(Dense(units=8,activation='relu'))\n",
        "model.add(Dense(units=5,activation='relu')) # hidden layer 2 (5 neurons)\n",
        "# model.add(Dense(units=3,activation='relu'))\n",
        "model.add(Dense(units=1,activation='sigmoid')) # output layer (1)"
      ]
    },
    {
      "cell_type": "code",
      "execution_count": 24,
      "id": "588c055f",
      "metadata": {
        "execution": {
          "iopub.execute_input": "2022-05-27T15:04:23.679126Z",
          "iopub.status.busy": "2022-05-27T15:04:23.678451Z",
          "iopub.status.idle": "2022-05-27T15:04:23.684581Z",
          "shell.execute_reply": "2022-05-27T15:04:23.683740Z"
        },
        "papermill": {
          "duration": 0.023203,
          "end_time": "2022-05-27T15:04:23.686745",
          "exception": false,
          "start_time": "2022-05-27T15:04:23.663542",
          "status": "completed"
        },
        "tags": [],
        "colab": {
          "base_uri": "https://localhost:8080/"
        },
        "id": "588c055f",
        "outputId": "e1921d36-eb5b-41ce-8676-7d3cd7c8a9ee"
      },
      "outputs": [
        {
          "output_type": "stream",
          "name": "stdout",
          "text": [
            "Model: \"sequential\"\n",
            "_________________________________________________________________\n",
            " Layer (type)                Output Shape              Param #   \n",
            "=================================================================\n",
            " dense (Dense)               (None, 10)                120       \n",
            "                                                                 \n",
            " dense_1 (Dense)             (None, 5)                 55        \n",
            "                                                                 \n",
            " dense_2 (Dense)             (None, 1)                 6         \n",
            "                                                                 \n",
            "=================================================================\n",
            "Total params: 181 (724.00 Byte)\n",
            "Trainable params: 181 (724.00 Byte)\n",
            "Non-trainable params: 0 (0.00 Byte)\n",
            "_________________________________________________________________\n"
          ]
        }
      ],
      "source": [
        "model.summary()"
      ]
    },
    {
      "cell_type": "code",
      "execution_count": 25,
      "id": "64f56146",
      "metadata": {
        "execution": {
          "iopub.execute_input": "2022-05-27T15:04:23.755960Z",
          "iopub.status.busy": "2022-05-27T15:04:23.755626Z",
          "iopub.status.idle": "2022-05-27T15:04:23.767537Z",
          "shell.execute_reply": "2022-05-27T15:04:23.766810Z"
        },
        "papermill": {
          "duration": 0.033841,
          "end_time": "2022-05-27T15:04:23.769155",
          "exception": false,
          "start_time": "2022-05-27T15:04:23.735314",
          "status": "completed"
        },
        "tags": [],
        "id": "64f56146"
      },
      "outputs": [],
      "source": [
        "model.compile(optimizer = 'Adam',loss='binary_crossentropy',metrics=['accuracy'])"
      ]
    },
    {
      "cell_type": "code",
      "execution_count": 26,
      "id": "0ff47670",
      "metadata": {
        "execution": {
          "iopub.execute_input": "2022-05-27T15:04:23.798860Z",
          "iopub.status.busy": "2022-05-27T15:04:23.798053Z",
          "iopub.status.idle": "2022-05-27T15:04:23.803027Z",
          "shell.execute_reply": "2022-05-27T15:04:23.802336Z"
        },
        "papermill": {
          "duration": 0.021478,
          "end_time": "2022-05-27T15:04:23.804640",
          "exception": false,
          "start_time": "2022-05-27T15:04:23.783162",
          "status": "completed"
        },
        "tags": [],
        "id": "0ff47670"
      },
      "outputs": [],
      "source": [
        "early_stopping = tensorflow.keras.callbacks.EarlyStopping(\n",
        "    monitor=\"val_loss\",\n",
        "    min_delta=0.001,\n",
        "    patience=20,\n",
        "    verbose=2,\n",
        "    mode=\"auto\",\n",
        "    baseline=None,\n",
        "    restore_best_weights=False,\n",
        ")"
      ]
    },
    {
      "cell_type": "code",
      "execution_count": 27,
      "id": "a2a09a16",
      "metadata": {
        "execution": {
          "iopub.execute_input": "2022-05-27T15:04:23.833494Z",
          "iopub.status.busy": "2022-05-27T15:04:23.833244Z",
          "iopub.status.idle": "2022-05-27T15:05:17.435795Z",
          "shell.execute_reply": "2022-05-27T15:05:17.434920Z"
        },
        "jupyter": {
          "outputs_hidden": true
        },
        "papermill": {
          "duration": 53.619304,
          "end_time": "2022-05-27T15:05:17.437830",
          "exception": false,
          "start_time": "2022-05-27T15:04:23.818526",
          "status": "completed"
        },
        "tags": [],
        "colab": {
          "base_uri": "https://localhost:8080/"
        },
        "id": "a2a09a16",
        "outputId": "6168f95d-b055-499b-a11c-8cfa760086b8"
      },
      "outputs": [
        {
          "output_type": "stream",
          "name": "stdout",
          "text": [
            "Epoch 1/200\n",
            "200/200 [==============================] - 3s 8ms/step - loss: 0.5756 - accuracy: 0.7503 - val_loss: 0.4983 - val_accuracy: 0.8000\n",
            "Epoch 2/200\n",
            "200/200 [==============================] - 1s 4ms/step - loss: 0.4845 - accuracy: 0.7959 - val_loss: 0.4458 - val_accuracy: 0.8087\n",
            "Epoch 3/200\n",
            "200/200 [==============================] - 1s 3ms/step - loss: 0.4430 - accuracy: 0.8109 - val_loss: 0.4181 - val_accuracy: 0.8294\n",
            "Epoch 4/200\n",
            "200/200 [==============================] - 1s 3ms/step - loss: 0.4184 - accuracy: 0.8233 - val_loss: 0.4036 - val_accuracy: 0.8388\n",
            "Epoch 5/200\n",
            "200/200 [==============================] - 0s 2ms/step - loss: 0.4020 - accuracy: 0.8339 - val_loss: 0.3942 - val_accuracy: 0.8400\n",
            "Epoch 6/200\n",
            "200/200 [==============================] - 1s 3ms/step - loss: 0.3890 - accuracy: 0.8453 - val_loss: 0.3865 - val_accuracy: 0.8431\n",
            "Epoch 7/200\n",
            "200/200 [==============================] - 1s 3ms/step - loss: 0.3788 - accuracy: 0.8483 - val_loss: 0.3799 - val_accuracy: 0.8494\n",
            "Epoch 8/200\n",
            "200/200 [==============================] - 1s 3ms/step - loss: 0.3702 - accuracy: 0.8511 - val_loss: 0.3729 - val_accuracy: 0.8487\n",
            "Epoch 9/200\n",
            "200/200 [==============================] - 1s 3ms/step - loss: 0.3638 - accuracy: 0.8531 - val_loss: 0.3689 - val_accuracy: 0.8481\n",
            "Epoch 10/200\n",
            "200/200 [==============================] - 0s 2ms/step - loss: 0.3590 - accuracy: 0.8553 - val_loss: 0.3651 - val_accuracy: 0.8512\n",
            "Epoch 11/200\n",
            "200/200 [==============================] - 0s 2ms/step - loss: 0.3550 - accuracy: 0.8564 - val_loss: 0.3629 - val_accuracy: 0.8544\n",
            "Epoch 12/200\n",
            "200/200 [==============================] - 0s 2ms/step - loss: 0.3519 - accuracy: 0.8580 - val_loss: 0.3603 - val_accuracy: 0.8531\n",
            "Epoch 13/200\n",
            "200/200 [==============================] - 1s 3ms/step - loss: 0.3497 - accuracy: 0.8580 - val_loss: 0.3583 - val_accuracy: 0.8506\n",
            "Epoch 14/200\n",
            "200/200 [==============================] - 0s 2ms/step - loss: 0.3476 - accuracy: 0.8587 - val_loss: 0.3579 - val_accuracy: 0.8581\n",
            "Epoch 15/200\n",
            "200/200 [==============================] - 1s 3ms/step - loss: 0.3464 - accuracy: 0.8584 - val_loss: 0.3573 - val_accuracy: 0.8569\n",
            "Epoch 16/200\n",
            "200/200 [==============================] - 0s 2ms/step - loss: 0.3449 - accuracy: 0.8592 - val_loss: 0.3563 - val_accuracy: 0.8525\n",
            "Epoch 17/200\n",
            "200/200 [==============================] - 0s 2ms/step - loss: 0.3441 - accuracy: 0.8603 - val_loss: 0.3557 - val_accuracy: 0.8525\n",
            "Epoch 18/200\n",
            "200/200 [==============================] - 1s 3ms/step - loss: 0.3432 - accuracy: 0.8625 - val_loss: 0.3545 - val_accuracy: 0.8544\n",
            "Epoch 19/200\n",
            "200/200 [==============================] - 1s 3ms/step - loss: 0.3418 - accuracy: 0.8614 - val_loss: 0.3535 - val_accuracy: 0.8600\n",
            "Epoch 20/200\n",
            "200/200 [==============================] - 0s 2ms/step - loss: 0.3412 - accuracy: 0.8616 - val_loss: 0.3538 - val_accuracy: 0.8581\n",
            "Epoch 21/200\n",
            "200/200 [==============================] - 0s 2ms/step - loss: 0.3407 - accuracy: 0.8622 - val_loss: 0.3521 - val_accuracy: 0.8581\n",
            "Epoch 22/200\n",
            "200/200 [==============================] - 1s 3ms/step - loss: 0.3394 - accuracy: 0.8620 - val_loss: 0.3531 - val_accuracy: 0.8569\n",
            "Epoch 23/200\n",
            "200/200 [==============================] - 1s 3ms/step - loss: 0.3391 - accuracy: 0.8602 - val_loss: 0.3511 - val_accuracy: 0.8600\n",
            "Epoch 24/200\n",
            "200/200 [==============================] - 1s 3ms/step - loss: 0.3384 - accuracy: 0.8633 - val_loss: 0.3523 - val_accuracy: 0.8575\n",
            "Epoch 25/200\n",
            "200/200 [==============================] - 1s 3ms/step - loss: 0.3381 - accuracy: 0.8628 - val_loss: 0.3512 - val_accuracy: 0.8587\n",
            "Epoch 26/200\n",
            "200/200 [==============================] - 0s 2ms/step - loss: 0.3374 - accuracy: 0.8639 - val_loss: 0.3511 - val_accuracy: 0.8575\n",
            "Epoch 27/200\n",
            "200/200 [==============================] - 1s 4ms/step - loss: 0.3369 - accuracy: 0.8622 - val_loss: 0.3513 - val_accuracy: 0.8581\n",
            "Epoch 28/200\n",
            "200/200 [==============================] - 1s 4ms/step - loss: 0.3362 - accuracy: 0.8641 - val_loss: 0.3515 - val_accuracy: 0.8575\n",
            "Epoch 29/200\n",
            "200/200 [==============================] - 2s 9ms/step - loss: 0.3361 - accuracy: 0.8627 - val_loss: 0.3514 - val_accuracy: 0.8550\n",
            "Epoch 30/200\n",
            "200/200 [==============================] - 2s 8ms/step - loss: 0.3357 - accuracy: 0.8634 - val_loss: 0.3503 - val_accuracy: 0.8594\n",
            "Epoch 31/200\n",
            "200/200 [==============================] - 1s 6ms/step - loss: 0.3356 - accuracy: 0.8625 - val_loss: 0.3507 - val_accuracy: 0.8550\n",
            "Epoch 32/200\n",
            "200/200 [==============================] - 1s 4ms/step - loss: 0.3352 - accuracy: 0.8631 - val_loss: 0.3500 - val_accuracy: 0.8606\n",
            "Epoch 33/200\n",
            "200/200 [==============================] - 1s 5ms/step - loss: 0.3346 - accuracy: 0.8634 - val_loss: 0.3501 - val_accuracy: 0.8569\n",
            "Epoch 34/200\n",
            "200/200 [==============================] - 1s 5ms/step - loss: 0.3346 - accuracy: 0.8644 - val_loss: 0.3497 - val_accuracy: 0.8537\n",
            "Epoch 35/200\n",
            "200/200 [==============================] - 1s 5ms/step - loss: 0.3344 - accuracy: 0.8628 - val_loss: 0.3495 - val_accuracy: 0.8544\n",
            "Epoch 36/200\n",
            "200/200 [==============================] - 1s 6ms/step - loss: 0.3345 - accuracy: 0.8642 - val_loss: 0.3498 - val_accuracy: 0.8537\n",
            "Epoch 37/200\n",
            "200/200 [==============================] - 1s 6ms/step - loss: 0.3338 - accuracy: 0.8628 - val_loss: 0.3493 - val_accuracy: 0.8594\n",
            "Epoch 38/200\n",
            "200/200 [==============================] - 1s 5ms/step - loss: 0.3340 - accuracy: 0.8648 - val_loss: 0.3497 - val_accuracy: 0.8569\n",
            "Epoch 39/200\n",
            "200/200 [==============================] - 1s 6ms/step - loss: 0.3335 - accuracy: 0.8631 - val_loss: 0.3498 - val_accuracy: 0.8569\n",
            "Epoch 40/200\n",
            "200/200 [==============================] - 3s 13ms/step - loss: 0.3337 - accuracy: 0.8630 - val_loss: 0.3493 - val_accuracy: 0.8581\n",
            "Epoch 41/200\n",
            "200/200 [==============================] - 1s 5ms/step - loss: 0.3332 - accuracy: 0.8647 - val_loss: 0.3487 - val_accuracy: 0.8556\n",
            "Epoch 42/200\n",
            "200/200 [==============================] - 1s 4ms/step - loss: 0.3331 - accuracy: 0.8639 - val_loss: 0.3484 - val_accuracy: 0.8594\n",
            "Epoch 43/200\n",
            "200/200 [==============================] - 1s 4ms/step - loss: 0.3330 - accuracy: 0.8656 - val_loss: 0.3506 - val_accuracy: 0.8581\n",
            "Epoch 44/200\n",
            "200/200 [==============================] - 1s 5ms/step - loss: 0.3328 - accuracy: 0.8631 - val_loss: 0.3496 - val_accuracy: 0.8531\n",
            "Epoch 45/200\n",
            "200/200 [==============================] - 1s 6ms/step - loss: 0.3327 - accuracy: 0.8634 - val_loss: 0.3495 - val_accuracy: 0.8556\n",
            "Epoch 46/200\n",
            "200/200 [==============================] - 1s 5ms/step - loss: 0.3326 - accuracy: 0.8628 - val_loss: 0.3485 - val_accuracy: 0.8544\n",
            "Epoch 47/200\n",
            "200/200 [==============================] - 1s 5ms/step - loss: 0.3322 - accuracy: 0.8637 - val_loss: 0.3490 - val_accuracy: 0.8556\n",
            "Epoch 48/200\n",
            "200/200 [==============================] - 1s 3ms/step - loss: 0.3322 - accuracy: 0.8630 - val_loss: 0.3493 - val_accuracy: 0.8550\n",
            "Epoch 49/200\n",
            "200/200 [==============================] - 1s 3ms/step - loss: 0.3321 - accuracy: 0.8636 - val_loss: 0.3483 - val_accuracy: 0.8550\n",
            "Epoch 50/200\n",
            "200/200 [==============================] - 1s 3ms/step - loss: 0.3319 - accuracy: 0.8637 - val_loss: 0.3489 - val_accuracy: 0.8562\n",
            "Epoch 51/200\n",
            "200/200 [==============================] - 0s 2ms/step - loss: 0.3320 - accuracy: 0.8630 - val_loss: 0.3485 - val_accuracy: 0.8562\n",
            "Epoch 52/200\n",
            "200/200 [==============================] - 0s 2ms/step - loss: 0.3321 - accuracy: 0.8656 - val_loss: 0.3493 - val_accuracy: 0.8556\n",
            "Epoch 53/200\n",
            "200/200 [==============================] - 0s 2ms/step - loss: 0.3316 - accuracy: 0.8645 - val_loss: 0.3490 - val_accuracy: 0.8569\n",
            "Epoch 54/200\n",
            "200/200 [==============================] - 1s 3ms/step - loss: 0.3318 - accuracy: 0.8637 - val_loss: 0.3495 - val_accuracy: 0.8587\n",
            "Epoch 55/200\n",
            "200/200 [==============================] - 1s 3ms/step - loss: 0.3315 - accuracy: 0.8628 - val_loss: 0.3501 - val_accuracy: 0.8594\n",
            "Epoch 56/200\n",
            "200/200 [==============================] - 1s 3ms/step - loss: 0.3315 - accuracy: 0.8642 - val_loss: 0.3490 - val_accuracy: 0.8562\n",
            "Epoch 57/200\n",
            "200/200 [==============================] - 1s 3ms/step - loss: 0.3311 - accuracy: 0.8642 - val_loss: 0.3494 - val_accuracy: 0.8519\n",
            "Epoch 58/200\n",
            "200/200 [==============================] - 1s 3ms/step - loss: 0.3315 - accuracy: 0.8634 - val_loss: 0.3487 - val_accuracy: 0.8587\n",
            "Epoch 59/200\n",
            "200/200 [==============================] - 0s 2ms/step - loss: 0.3312 - accuracy: 0.8639 - val_loss: 0.3492 - val_accuracy: 0.8569\n",
            "Epoch 60/200\n",
            "200/200 [==============================] - 0s 2ms/step - loss: 0.3312 - accuracy: 0.8627 - val_loss: 0.3494 - val_accuracy: 0.8537\n",
            "Epoch 61/200\n",
            "200/200 [==============================] - 0s 2ms/step - loss: 0.3311 - accuracy: 0.8652 - val_loss: 0.3485 - val_accuracy: 0.8569\n",
            "Epoch 61: early stopping\n"
          ]
        }
      ],
      "source": [
        "history = model.fit(X_train,y_train, epochs =200,validation_split=0.2, callbacks=early_stopping)"
      ]
    },
    {
      "cell_type": "markdown",
      "source": [
        "### Evaluate The Model\n",
        "\n",
        "- Plot the model history to observe the changing of metrics\n",
        "- Make prediction to see \"confusion matrix\" and \"classification report\"\n",
        "- Check ROC (Receiver Operating Curve) and AUC (Area Under Curve) for the model"
      ],
      "metadata": {
        "id": "2nEZqvKIZh2j"
      },
      "id": "2nEZqvKIZh2j"
    },
    {
      "cell_type": "code",
      "execution_count": 28,
      "id": "e471712f",
      "metadata": {
        "execution": {
          "iopub.execute_input": "2022-05-27T15:05:46.829188Z",
          "iopub.status.busy": "2022-05-27T15:05:46.827706Z",
          "iopub.status.idle": "2022-05-27T15:05:46.979556Z",
          "shell.execute_reply": "2022-05-27T15:05:46.978750Z"
        },
        "papermill": {
          "duration": 0.227707,
          "end_time": "2022-05-27T15:05:46.981567",
          "exception": false,
          "start_time": "2022-05-27T15:05:46.753860",
          "status": "completed"
        },
        "tags": [],
        "colab": {
          "base_uri": "https://localhost:8080/"
        },
        "id": "e471712f",
        "outputId": "32f641a4-99b1-4dfc-e0b6-0b1f94f30b91"
      },
      "outputs": [
        {
          "output_type": "stream",
          "name": "stdout",
          "text": [
            "63/63 [==============================] - 0s 1ms/step\n"
          ]
        }
      ],
      "source": [
        "# prediction\n",
        "y_log = model.predict(X_test)\n",
        "# note: we are using sigmoid, so real will be in 0 to 1"
      ]
    },
    {
      "cell_type": "code",
      "execution_count": 29,
      "id": "9ef11c24",
      "metadata": {
        "execution": {
          "iopub.execute_input": "2022-05-27T15:05:47.129864Z",
          "iopub.status.busy": "2022-05-27T15:05:47.129531Z",
          "iopub.status.idle": "2022-05-27T15:05:47.133948Z",
          "shell.execute_reply": "2022-05-27T15:05:47.133101Z"
        },
        "papermill": {
          "duration": 0.080263,
          "end_time": "2022-05-27T15:05:47.135847",
          "exception": false,
          "start_time": "2022-05-27T15:05:47.055584",
          "status": "completed"
        },
        "tags": [],
        "id": "9ef11c24"
      },
      "outputs": [],
      "source": [
        "y_pred = np.where(y_log>0.5,1,0) # this means if y_log > 0.5 then 1 else 0"
      ]
    },
    {
      "cell_type": "code",
      "execution_count": 30,
      "id": "66b8b48d",
      "metadata": {
        "execution": {
          "iopub.execute_input": "2022-05-27T15:05:47.283058Z",
          "iopub.status.busy": "2022-05-27T15:05:47.282724Z",
          "iopub.status.idle": "2022-05-27T15:05:47.286714Z",
          "shell.execute_reply": "2022-05-27T15:05:47.285863Z"
        },
        "papermill": {
          "duration": 0.08063,
          "end_time": "2022-05-27T15:05:47.288816",
          "exception": false,
          "start_time": "2022-05-27T15:05:47.208186",
          "status": "completed"
        },
        "tags": [],
        "id": "66b8b48d"
      },
      "outputs": [],
      "source": [
        "from sklearn.metrics import accuracy_score,confusion_matrix"
      ]
    },
    {
      "cell_type": "code",
      "execution_count": 31,
      "id": "f3f3f0a7",
      "metadata": {
        "execution": {
          "iopub.execute_input": "2022-05-27T15:05:47.434921Z",
          "iopub.status.busy": "2022-05-27T15:05:47.434606Z",
          "iopub.status.idle": "2022-05-27T15:05:47.441127Z",
          "shell.execute_reply": "2022-05-27T15:05:47.440308Z"
        },
        "papermill": {
          "duration": 0.081961,
          "end_time": "2022-05-27T15:05:47.443388",
          "exception": false,
          "start_time": "2022-05-27T15:05:47.361427",
          "status": "completed"
        },
        "tags": [],
        "colab": {
          "base_uri": "https://localhost:8080/"
        },
        "id": "f3f3f0a7",
        "outputId": "356f43c0-a611-483f-9340-7f5560ad7215"
      },
      "outputs": [
        {
          "output_type": "execute_result",
          "data": {
            "text/plain": [
              "0.856"
            ]
          },
          "metadata": {},
          "execution_count": 31
        }
      ],
      "source": [
        "accuracy_score(y_test,y_pred)"
      ]
    },
    {
      "cell_type": "code",
      "execution_count": 32,
      "id": "b31bf7e8",
      "metadata": {
        "execution": {
          "iopub.execute_input": "2022-05-27T15:05:47.590602Z",
          "iopub.status.busy": "2022-05-27T15:05:47.590311Z",
          "iopub.status.idle": "2022-05-27T15:05:47.598228Z",
          "shell.execute_reply": "2022-05-27T15:05:47.597548Z"
        },
        "papermill": {
          "duration": 0.083299,
          "end_time": "2022-05-27T15:05:47.599824",
          "exception": false,
          "start_time": "2022-05-27T15:05:47.516525",
          "status": "completed"
        },
        "tags": [],
        "colab": {
          "base_uri": "https://localhost:8080/"
        },
        "id": "b31bf7e8",
        "outputId": "01544cbe-544f-4b26-a724-ab8f8c347b57"
      },
      "outputs": [
        {
          "output_type": "execute_result",
          "data": {
            "text/plain": [
              "array([[1536,   71],\n",
              "       [ 217,  176]])"
            ]
          },
          "metadata": {},
          "execution_count": 32
        }
      ],
      "source": [
        "confusion_matrix(y_test,y_pred)"
      ]
    },
    {
      "cell_type": "code",
      "execution_count": 33,
      "id": "ba285baf",
      "metadata": {
        "execution": {
          "iopub.execute_input": "2022-05-27T15:05:47.746451Z",
          "iopub.status.busy": "2022-05-27T15:05:47.745849Z",
          "iopub.status.idle": "2022-05-27T15:05:47.749789Z",
          "shell.execute_reply": "2022-05-27T15:05:47.748943Z"
        },
        "papermill": {
          "duration": 0.079539,
          "end_time": "2022-05-27T15:05:47.751690",
          "exception": false,
          "start_time": "2022-05-27T15:05:47.672151",
          "status": "completed"
        },
        "tags": [],
        "id": "ba285baf"
      },
      "outputs": [],
      "source": [
        "import matplotlib.pyplot as plt"
      ]
    },
    {
      "cell_type": "code",
      "execution_count": 34,
      "id": "2e438d29",
      "metadata": {
        "execution": {
          "iopub.execute_input": "2022-05-27T15:05:47.899401Z",
          "iopub.status.busy": "2022-05-27T15:05:47.898767Z",
          "iopub.status.idle": "2022-05-27T15:05:47.903936Z",
          "shell.execute_reply": "2022-05-27T15:05:47.903225Z"
        },
        "papermill": {
          "duration": 0.081028,
          "end_time": "2022-05-27T15:05:47.905706",
          "exception": false,
          "start_time": "2022-05-27T15:05:47.824678",
          "status": "completed"
        },
        "tags": [],
        "colab": {
          "base_uri": "https://localhost:8080/"
        },
        "id": "2e438d29",
        "outputId": "e3a43309-bf67-4587-cf6b-97f6fd22e68b"
      },
      "outputs": [
        {
          "output_type": "execute_result",
          "data": {
            "text/plain": [
              "dict_keys(['loss', 'accuracy', 'val_loss', 'val_accuracy'])"
            ]
          },
          "metadata": {},
          "execution_count": 34
        }
      ],
      "source": [
        "history.history.keys()"
      ]
    },
    {
      "cell_type": "code",
      "execution_count": 35,
      "id": "f1f426bd",
      "metadata": {
        "execution": {
          "iopub.execute_input": "2022-05-27T15:05:48.053682Z",
          "iopub.status.busy": "2022-05-27T15:05:48.052913Z",
          "iopub.status.idle": "2022-05-27T15:05:48.059288Z",
          "shell.execute_reply": "2022-05-27T15:05:48.058561Z"
        },
        "papermill": {
          "duration": 0.082767,
          "end_time": "2022-05-27T15:05:48.061587",
          "exception": false,
          "start_time": "2022-05-27T15:05:47.978820",
          "status": "completed"
        },
        "tags": [],
        "colab": {
          "base_uri": "https://localhost:8080/"
        },
        "id": "f1f426bd",
        "outputId": "08279c4e-92b3-493d-99de-1644aef8ae55"
      },
      "outputs": [
        {
          "output_type": "stream",
          "name": "stdout",
          "text": [
            "loss [0.5756456255912781, 0.48445138335227966, 0.44301894307136536, 0.4183676838874817, 0.4019562602043152, 0.38898900151252747, 0.37884968519210815, 0.3702349066734314, 0.3638439178466797, 0.3590397536754608, 0.35502028465270996, 0.3519318699836731, 0.3497275412082672, 0.3476250469684601, 0.34637877345085144, 0.34493401646614075, 0.3441395163536072, 0.34315013885498047, 0.3417526185512543, 0.34122753143310547, 0.34071147441864014, 0.33935317397117615, 0.3390848636627197, 0.33835381269454956, 0.3380662500858307, 0.33744800090789795, 0.33694449067115784, 0.33624744415283203, 0.33609265089035034, 0.3357490599155426, 0.33559733629226685, 0.33517882227897644, 0.33459582924842834, 0.334605872631073, 0.3344363868236542, 0.33452701568603516, 0.3337510824203491, 0.3339899480342865, 0.33346596360206604, 0.33368155360221863, 0.33323803544044495, 0.3330853581428528, 0.33295580744743347, 0.3327654302120209, 0.3326560854911804, 0.3325752317905426, 0.3321906328201294, 0.33216628432273865, 0.33212223649024963, 0.3319232165813446, 0.33195769786834717, 0.3321464955806732, 0.33160972595214844, 0.33177435398101807, 0.33150145411491394, 0.331502765417099, 0.33107030391693115, 0.3315081000328064, 0.33119022846221924, 0.331154465675354, 0.33108067512512207] \n",
            "\n",
            "accuracy [0.7503125071525574, 0.7959374785423279, 0.8109375238418579, 0.8232812285423279, 0.8339062333106995, 0.8453124761581421, 0.8482812643051147, 0.8510937690734863, 0.8531249761581421, 0.8553125262260437, 0.8564062714576721, 0.8579687476158142, 0.8579687476158142, 0.8587499856948853, 0.8584374785423279, 0.8592187762260437, 0.8603125214576721, 0.862500011920929, 0.8614062666893005, 0.8615624904632568, 0.8621875047683716, 0.8620312213897705, 0.860156238079071, 0.86328125, 0.8628125190734863, 0.8639062643051147, 0.8621875047683716, 0.864062488079071, 0.8626562356948853, 0.8634374737739563, 0.862500011920929, 0.8631250262260437, 0.8634374737739563, 0.8643749952316284, 0.8628125190734863, 0.8642187714576721, 0.8628125190734863, 0.8648437261581421, 0.8631250262260437, 0.8629687428474426, 0.8646875023841858, 0.8639062643051147, 0.8656250238418579, 0.8631250262260437, 0.8634374737739563, 0.8628125190734863, 0.8637499809265137, 0.8629687428474426, 0.8635937571525574, 0.8637499809265137, 0.8629687428474426, 0.8656250238418579, 0.8645312786102295, 0.8637499809265137, 0.8628125190734863, 0.8642187714576721, 0.8642187714576721, 0.8634374737739563, 0.8639062643051147, 0.8626562356948853, 0.8651562333106995] \n",
            "\n",
            "val_loss [0.4982885718345642, 0.44575464725494385, 0.4180881381034851, 0.40363338589668274, 0.39421603083610535, 0.38648396730422974, 0.37991783022880554, 0.3729049563407898, 0.36894500255584717, 0.36506351828575134, 0.3628643751144409, 0.36034995317459106, 0.3582858145236969, 0.35787245631217957, 0.3572686016559601, 0.35629528760910034, 0.35566169023513794, 0.35453200340270996, 0.35354506969451904, 0.35382354259490967, 0.3520701229572296, 0.35309505462646484, 0.3510783314704895, 0.35233864188194275, 0.35115960240364075, 0.3511214852333069, 0.3513093888759613, 0.35154345631599426, 0.35144612193107605, 0.35027652978897095, 0.35070475935935974, 0.3499772250652313, 0.3501341938972473, 0.34970009326934814, 0.34946486353874207, 0.3498246371746063, 0.3493318557739258, 0.3497300446033478, 0.34975379705429077, 0.3492850065231323, 0.34865841269493103, 0.3484014868736267, 0.35060393810272217, 0.3496113717556, 0.349527508020401, 0.3484649360179901, 0.34898361563682556, 0.3493465185165405, 0.34833741188049316, 0.3489065170288086, 0.3484526574611664, 0.34930679202079773, 0.3489966094493866, 0.34951961040496826, 0.35005614161491394, 0.34901124238967896, 0.34944161772727966, 0.34865736961364746, 0.349221795797348, 0.34941208362579346, 0.348501592874527] \n",
            "\n",
            "val_accuracy [0.800000011920929, 0.8087499737739563, 0.8293750286102295, 0.8387500047683716, 0.8399999737739563, 0.8431249856948853, 0.8493750095367432, 0.8487499952316284, 0.8481249809265137, 0.8512499928474426, 0.8543750047683716, 0.8531249761581421, 0.8506249785423279, 0.8581249713897705, 0.8568750023841858, 0.8525000214576721, 0.8525000214576721, 0.8543750047683716, 0.8600000143051147, 0.8581249713897705, 0.8581249713897705, 0.8568750023841858, 0.8600000143051147, 0.8575000166893005, 0.8587499856948853, 0.8575000166893005, 0.8581249713897705, 0.8575000166893005, 0.8550000190734863, 0.859375, 0.8550000190734863, 0.8606250286102295, 0.8568750023841858, 0.8537499904632568, 0.8543750047683716, 0.8537499904632568, 0.859375, 0.8568750023841858, 0.8568750023841858, 0.8581249713897705, 0.8556249737739563, 0.859375, 0.8581249713897705, 0.8531249761581421, 0.8556249737739563, 0.8543750047683716, 0.8556249737739563, 0.8550000190734863, 0.8550000190734863, 0.856249988079071, 0.856249988079071, 0.8556249737739563, 0.8568750023841858, 0.8587499856948853, 0.859375, 0.856249988079071, 0.8518750071525574, 0.8587499856948853, 0.8568750023841858, 0.8537499904632568, 0.8568750023841858] \n",
            "\n"
          ]
        }
      ],
      "source": [
        "for i in history.history:\n",
        "    print(i,history.history[i],'\\n')"
      ]
    },
    {
      "cell_type": "code",
      "execution_count": 36,
      "id": "db326c50",
      "metadata": {
        "execution": {
          "iopub.execute_input": "2022-05-27T15:05:48.209293Z",
          "iopub.status.busy": "2022-05-27T15:05:48.208975Z",
          "iopub.status.idle": "2022-05-27T15:05:48.543472Z",
          "shell.execute_reply": "2022-05-27T15:05:48.542733Z"
        },
        "papermill": {
          "duration": 0.410229,
          "end_time": "2022-05-27T15:05:48.545171",
          "exception": false,
          "start_time": "2022-05-27T15:05:48.134942",
          "status": "completed"
        },
        "tags": [],
        "colab": {
          "base_uri": "https://localhost:8080/",
          "height": 388
        },
        "id": "db326c50",
        "outputId": "f6e39330-52a6-46cb-8660-7ce10a198049"
      },
      "outputs": [
        {
          "output_type": "execute_result",
          "data": {
            "text/plain": [
              "Text(0.5, 1.0, 'Model Accuracy History')"
            ]
          },
          "metadata": {},
          "execution_count": 36
        },
        {
          "output_type": "display_data",
          "data": {
            "text/plain": [
              "<Figure size 1500x500 with 2 Axes>"
            ],
            "image/png": "[encoded data removed]"
          },
          "metadata": {}
        }
      ],
      "source": [
        "plt.figure(figsize=(15,5))\n",
        "plt.subplot(121)\n",
        "plt.plot(history.history['loss'],label='Train')\n",
        "plt.plot(history.history['val_loss'],label='Test')\n",
        "plt.legend()\n",
        "plt.xlabel('Epoch')\n",
        "plt.ylabel('Loss')\n",
        "plt.title('Model Loss History')\n",
        "\n",
        "plt.subplot(122)\n",
        "plt.plot(history.history['accuracy'],label='Train')\n",
        "plt.plot(history.history['val_accuracy'],label='Test')\n",
        "plt.legend()\n",
        "plt.xlabel('Epoch')\n",
        "plt.ylabel('Accuracy')\n",
        "plt.title('Model Accuracy History')"
      ]
    },
    {
      "cell_type": "markdown",
      "source": [
        "## with class_weigth\n",
        "\n",
        "Investigate how the \"class_weight\" hyper-parameter is used in a Neural Network."
      ],
      "metadata": {
        "id": "Bvp59MUcZozj"
      },
      "id": "Bvp59MUcZozj"
    },
    {
      "cell_type": "code",
      "source": [
        "# Changing class weights\n",
        "\n",
        "from sklearn.utils import compute_class_weight\n",
        "\n",
        "class_weights = compute_class_weight(\n",
        "                                        class_weight = \"balanced\",\n",
        "                                        classes = np.unique(y_train),\n",
        "                                        y = y_train\n",
        "                                    )\n",
        "class_weights = dict(zip(np.unique(y_train), class_weights))\n",
        "class_weights"
      ],
      "metadata": {
        "colab": {
          "base_uri": "https://localhost:8080/"
        },
        "id": "iniDyyJVadyg",
        "outputId": "b4faa3d6-885e-4114-fa94-a233d298203a"
      },
      "id": "iniDyyJVadyg",
      "execution_count": 37,
      "outputs": [
        {
          "output_type": "execute_result",
          "data": {
            "text/plain": [
              "{0: 0.6293266205160478, 1: 2.4330900243309004}"
            ]
          },
          "metadata": {},
          "execution_count": 37
        }
      ]
    },
    {
      "cell_type": "code",
      "source": [
        "model2 = Sequential()\n",
        "model2.add(Dense(units=10,activation='relu',input_dim=11)) # hidden layer1(10 neurons) with 11 input layers\n",
        "# model2.add(Dense(units=8,activation='relu'))\n",
        "model2.add(Dense(units=5,activation='relu')) # hidden layer 2 (5 neurons)\n",
        "# model2.add(Dense(units=3,activation='relu'))\n",
        "model2.add(Dense(units=1,activation='sigmoid')) # output layer (1)"
      ],
      "metadata": {
        "id": "RSmuTOeEZs6j"
      },
      "id": "RSmuTOeEZs6j",
      "execution_count": 38,
      "outputs": []
    },
    {
      "cell_type": "code",
      "source": [
        "model2.summary()"
      ],
      "metadata": {
        "colab": {
          "base_uri": "https://localhost:8080/"
        },
        "id": "Z6k6giNpaIni",
        "outputId": "7c95376a-7cc7-447d-ca20-e6d664e6fca9"
      },
      "id": "Z6k6giNpaIni",
      "execution_count": 39,
      "outputs": [
        {
          "output_type": "stream",
          "name": "stdout",
          "text": [
            "Model: \"sequential_1\"\n",
            "_________________________________________________________________\n",
            " Layer (type)                Output Shape              Param #   \n",
            "=================================================================\n",
            " dense_3 (Dense)             (None, 10)                120       \n",
            "                                                                 \n",
            " dense_4 (Dense)             (None, 5)                 55        \n",
            "                                                                 \n",
            " dense_5 (Dense)             (None, 1)                 6         \n",
            "                                                                 \n",
            "=================================================================\n",
            "Total params: 181 (724.00 Byte)\n",
            "Trainable params: 181 (724.00 Byte)\n",
            "Non-trainable params: 0 (0.00 Byte)\n",
            "_________________________________________________________________\n"
          ]
        }
      ]
    },
    {
      "cell_type": "code",
      "source": [
        "model2.compile(optimizer = 'Adam',loss='binary_crossentropy',metrics=['accuracy'])"
      ],
      "metadata": {
        "id": "MPRojZ8DaNTh"
      },
      "id": "MPRojZ8DaNTh",
      "execution_count": 40,
      "outputs": []
    },
    {
      "cell_type": "code",
      "source": [
        "early_stopping = tensorflow.keras.callbacks.EarlyStopping(\n",
        "    monitor=\"val_loss\",\n",
        "    min_delta=0.001,\n",
        "    patience=20,\n",
        "    verbose=2,\n",
        "    mode=\"auto\",\n",
        "    baseline=None,\n",
        "    restore_best_weights=False,\n",
        ")"
      ],
      "metadata": {
        "id": "FF4UFYKMaQsL"
      },
      "id": "FF4UFYKMaQsL",
      "execution_count": 41,
      "outputs": []
    },
    {
      "cell_type": "code",
      "source": [
        "history = model2.fit(X_train,y_train, epochs =200,validation_split=0.2, callbacks=early_stopping, class_weight=class_weights)"
      ],
      "metadata": {
        "colab": {
          "base_uri": "https://localhost:8080/"
        },
        "id": "Bu-eJvcZaUhv",
        "outputId": "f32d7858-88ec-41a7-acf9-8b1a81f838eb"
      },
      "id": "Bu-eJvcZaUhv",
      "execution_count": 42,
      "outputs": [
        {
          "output_type": "stream",
          "name": "stdout",
          "text": [
            "Epoch 1/200\n",
            "200/200 [==============================] - 1s 3ms/step - loss: 0.7148 - accuracy: 0.6361 - val_loss: 0.6461 - val_accuracy: 0.6094\n",
            "Epoch 2/200\n",
            "200/200 [==============================] - 0s 2ms/step - loss: 0.6455 - accuracy: 0.6366 - val_loss: 0.6034 - val_accuracy: 0.6656\n",
            "Epoch 3/200\n",
            "200/200 [==============================] - 1s 3ms/step - loss: 0.6101 - accuracy: 0.6755 - val_loss: 0.5869 - val_accuracy: 0.6800\n",
            "Epoch 4/200\n",
            "200/200 [==============================] - 1s 3ms/step - loss: 0.5833 - accuracy: 0.6861 - val_loss: 0.5696 - val_accuracy: 0.6981\n",
            "Epoch 5/200\n",
            "200/200 [==============================] - 0s 2ms/step - loss: 0.5651 - accuracy: 0.7023 - val_loss: 0.5718 - val_accuracy: 0.7013\n",
            "Epoch 6/200\n",
            "200/200 [==============================] - 0s 2ms/step - loss: 0.5503 - accuracy: 0.7130 - val_loss: 0.5532 - val_accuracy: 0.7169\n",
            "Epoch 7/200\n",
            "200/200 [==============================] - 0s 2ms/step - loss: 0.5372 - accuracy: 0.7237 - val_loss: 0.5356 - val_accuracy: 0.7275\n",
            "Epoch 8/200\n",
            "200/200 [==============================] - 1s 3ms/step - loss: 0.5241 - accuracy: 0.7408 - val_loss: 0.5370 - val_accuracy: 0.7300\n",
            "Epoch 9/200\n",
            "200/200 [==============================] - 0s 2ms/step - loss: 0.5124 - accuracy: 0.7411 - val_loss: 0.5203 - val_accuracy: 0.7406\n",
            "Epoch 10/200\n",
            "200/200 [==============================] - 0s 2ms/step - loss: 0.5025 - accuracy: 0.7534 - val_loss: 0.5220 - val_accuracy: 0.7406\n",
            "Epoch 11/200\n",
            "200/200 [==============================] - 0s 2ms/step - loss: 0.4937 - accuracy: 0.7545 - val_loss: 0.5085 - val_accuracy: 0.7500\n",
            "Epoch 12/200\n",
            "200/200 [==============================] - 0s 2ms/step - loss: 0.4867 - accuracy: 0.7605 - val_loss: 0.4704 - val_accuracy: 0.7669\n",
            "Epoch 13/200\n",
            "200/200 [==============================] - 1s 3ms/step - loss: 0.4819 - accuracy: 0.7670 - val_loss: 0.4999 - val_accuracy: 0.7450\n",
            "Epoch 14/200\n",
            "200/200 [==============================] - 2s 8ms/step - loss: 0.4787 - accuracy: 0.7656 - val_loss: 0.4900 - val_accuracy: 0.7519\n",
            "Epoch 15/200\n",
            "200/200 [==============================] - 1s 4ms/step - loss: 0.4756 - accuracy: 0.7711 - val_loss: 0.4788 - val_accuracy: 0.7581\n",
            "Epoch 16/200\n",
            "200/200 [==============================] - 1s 4ms/step - loss: 0.4734 - accuracy: 0.7717 - val_loss: 0.4888 - val_accuracy: 0.7538\n",
            "Epoch 17/200\n",
            "200/200 [==============================] - 0s 2ms/step - loss: 0.4720 - accuracy: 0.7731 - val_loss: 0.4812 - val_accuracy: 0.7613\n",
            "Epoch 18/200\n",
            "200/200 [==============================] - 1s 3ms/step - loss: 0.4698 - accuracy: 0.7769 - val_loss: 0.4782 - val_accuracy: 0.7563\n",
            "Epoch 19/200\n",
            "200/200 [==============================] - 0s 2ms/step - loss: 0.4697 - accuracy: 0.7733 - val_loss: 0.4585 - val_accuracy: 0.7763\n",
            "Epoch 20/200\n",
            "200/200 [==============================] - 0s 2ms/step - loss: 0.4675 - accuracy: 0.7728 - val_loss: 0.4439 - val_accuracy: 0.7862\n",
            "Epoch 21/200\n",
            "200/200 [==============================] - 1s 3ms/step - loss: 0.4679 - accuracy: 0.7769 - val_loss: 0.4514 - val_accuracy: 0.7806\n",
            "Epoch 22/200\n",
            "200/200 [==============================] - 0s 2ms/step - loss: 0.4659 - accuracy: 0.7848 - val_loss: 0.4774 - val_accuracy: 0.7650\n",
            "Epoch 23/200\n",
            "200/200 [==============================] - 1s 3ms/step - loss: 0.4659 - accuracy: 0.7788 - val_loss: 0.4877 - val_accuracy: 0.7594\n",
            "Epoch 24/200\n",
            "200/200 [==============================] - 0s 2ms/step - loss: 0.4651 - accuracy: 0.7777 - val_loss: 0.4710 - val_accuracy: 0.7713\n",
            "Epoch 25/200\n",
            "200/200 [==============================] - 1s 3ms/step - loss: 0.4650 - accuracy: 0.7766 - val_loss: 0.4623 - val_accuracy: 0.7731\n",
            "Epoch 26/200\n",
            "200/200 [==============================] - 1s 3ms/step - loss: 0.4631 - accuracy: 0.7841 - val_loss: 0.4855 - val_accuracy: 0.7581\n",
            "Epoch 27/200\n",
            "200/200 [==============================] - 0s 2ms/step - loss: 0.4629 - accuracy: 0.7761 - val_loss: 0.4521 - val_accuracy: 0.7812\n",
            "Epoch 28/200\n",
            "200/200 [==============================] - 1s 3ms/step - loss: 0.4623 - accuracy: 0.7809 - val_loss: 0.4589 - val_accuracy: 0.7788\n",
            "Epoch 29/200\n",
            "200/200 [==============================] - 1s 3ms/step - loss: 0.4623 - accuracy: 0.7837 - val_loss: 0.4693 - val_accuracy: 0.7713\n",
            "Epoch 30/200\n",
            "200/200 [==============================] - 0s 2ms/step - loss: 0.4610 - accuracy: 0.7812 - val_loss: 0.4554 - val_accuracy: 0.7781\n",
            "Epoch 31/200\n",
            "200/200 [==============================] - 1s 3ms/step - loss: 0.4611 - accuracy: 0.7858 - val_loss: 0.4583 - val_accuracy: 0.7794\n",
            "Epoch 32/200\n",
            "200/200 [==============================] - 0s 2ms/step - loss: 0.4605 - accuracy: 0.7855 - val_loss: 0.4539 - val_accuracy: 0.7794\n",
            "Epoch 33/200\n",
            "200/200 [==============================] - 1s 3ms/step - loss: 0.4601 - accuracy: 0.7850 - val_loss: 0.4823 - val_accuracy: 0.7631\n",
            "Epoch 34/200\n",
            "200/200 [==============================] - 1s 3ms/step - loss: 0.4598 - accuracy: 0.7870 - val_loss: 0.4929 - val_accuracy: 0.7594\n",
            "Epoch 35/200\n",
            "200/200 [==============================] - 2s 8ms/step - loss: 0.4598 - accuracy: 0.7837 - val_loss: 0.4613 - val_accuracy: 0.7806\n",
            "Epoch 36/200\n",
            "200/200 [==============================] - 2s 8ms/step - loss: 0.4593 - accuracy: 0.7825 - val_loss: 0.4521 - val_accuracy: 0.7831\n",
            "Epoch 37/200\n",
            "200/200 [==============================] - 1s 5ms/step - loss: 0.4583 - accuracy: 0.7892 - val_loss: 0.4715 - val_accuracy: 0.7738\n",
            "Epoch 38/200\n",
            "200/200 [==============================] - 0s 2ms/step - loss: 0.4584 - accuracy: 0.7867 - val_loss: 0.4685 - val_accuracy: 0.7744\n",
            "Epoch 39/200\n",
            "200/200 [==============================] - 0s 2ms/step - loss: 0.4577 - accuracy: 0.7831 - val_loss: 0.4326 - val_accuracy: 0.7931\n",
            "Epoch 40/200\n",
            "200/200 [==============================] - 1s 2ms/step - loss: 0.4585 - accuracy: 0.7930 - val_loss: 0.4544 - val_accuracy: 0.7788\n",
            "Epoch 41/200\n",
            "200/200 [==============================] - 0s 2ms/step - loss: 0.4572 - accuracy: 0.7883 - val_loss: 0.4649 - val_accuracy: 0.7738\n",
            "Epoch 42/200\n",
            "200/200 [==============================] - 1s 3ms/step - loss: 0.4574 - accuracy: 0.7820 - val_loss: 0.4578 - val_accuracy: 0.7788\n",
            "Epoch 43/200\n",
            "200/200 [==============================] - 0s 2ms/step - loss: 0.4566 - accuracy: 0.7889 - val_loss: 0.4557 - val_accuracy: 0.7800\n",
            "Epoch 44/200\n",
            "200/200 [==============================] - 0s 2ms/step - loss: 0.4566 - accuracy: 0.7887 - val_loss: 0.4670 - val_accuracy: 0.7750\n",
            "Epoch 45/200\n",
            "200/200 [==============================] - 1s 3ms/step - loss: 0.4558 - accuracy: 0.7906 - val_loss: 0.4712 - val_accuracy: 0.7719\n",
            "Epoch 46/200\n",
            "200/200 [==============================] - 0s 2ms/step - loss: 0.4563 - accuracy: 0.7858 - val_loss: 0.4773 - val_accuracy: 0.7706\n",
            "Epoch 47/200\n",
            "200/200 [==============================] - 0s 2ms/step - loss: 0.4553 - accuracy: 0.7858 - val_loss: 0.4410 - val_accuracy: 0.7881\n",
            "Epoch 48/200\n",
            "200/200 [==============================] - 0s 2ms/step - loss: 0.4557 - accuracy: 0.7925 - val_loss: 0.4559 - val_accuracy: 0.7812\n",
            "Epoch 49/200\n",
            "200/200 [==============================] - 0s 2ms/step - loss: 0.4554 - accuracy: 0.7922 - val_loss: 0.4565 - val_accuracy: 0.7775\n",
            "Epoch 50/200\n",
            "200/200 [==============================] - 0s 2ms/step - loss: 0.4551 - accuracy: 0.7931 - val_loss: 0.4707 - val_accuracy: 0.7725\n",
            "Epoch 51/200\n",
            "200/200 [==============================] - 0s 2ms/step - loss: 0.4543 - accuracy: 0.7862 - val_loss: 0.4538 - val_accuracy: 0.7806\n",
            "Epoch 52/200\n",
            "200/200 [==============================] - 1s 3ms/step - loss: 0.4546 - accuracy: 0.7891 - val_loss: 0.4463 - val_accuracy: 0.7875\n",
            "Epoch 53/200\n",
            "200/200 [==============================] - 1s 3ms/step - loss: 0.4542 - accuracy: 0.7923 - val_loss: 0.4779 - val_accuracy: 0.7656\n",
            "Epoch 54/200\n",
            "200/200 [==============================] - 0s 2ms/step - loss: 0.4541 - accuracy: 0.7912 - val_loss: 0.4771 - val_accuracy: 0.7706\n",
            "Epoch 55/200\n",
            "200/200 [==============================] - 1s 3ms/step - loss: 0.4546 - accuracy: 0.7886 - val_loss: 0.4617 - val_accuracy: 0.7781\n",
            "Epoch 56/200\n",
            "200/200 [==============================] - 1s 4ms/step - loss: 0.4540 - accuracy: 0.7906 - val_loss: 0.4544 - val_accuracy: 0.7800\n",
            "Epoch 57/200\n",
            "200/200 [==============================] - 1s 4ms/step - loss: 0.4538 - accuracy: 0.7903 - val_loss: 0.4544 - val_accuracy: 0.7769\n",
            "Epoch 58/200\n",
            "200/200 [==============================] - 1s 4ms/step - loss: 0.4530 - accuracy: 0.7897 - val_loss: 0.4200 - val_accuracy: 0.8006\n",
            "Epoch 59/200\n",
            "200/200 [==============================] - 0s 2ms/step - loss: 0.4540 - accuracy: 0.7928 - val_loss: 0.4373 - val_accuracy: 0.7887\n",
            "Epoch 60/200\n",
            "200/200 [==============================] - 1s 3ms/step - loss: 0.4533 - accuracy: 0.7917 - val_loss: 0.4525 - val_accuracy: 0.7763\n",
            "Epoch 61/200\n",
            "200/200 [==============================] - 2s 7ms/step - loss: 0.4529 - accuracy: 0.7917 - val_loss: 0.4398 - val_accuracy: 0.7850\n",
            "Epoch 62/200\n",
            "200/200 [==============================] - 1s 6ms/step - loss: 0.4533 - accuracy: 0.7920 - val_loss: 0.4560 - val_accuracy: 0.7788\n",
            "Epoch 63/200\n",
            "200/200 [==============================] - 1s 6ms/step - loss: 0.4524 - accuracy: 0.7894 - val_loss: 0.4370 - val_accuracy: 0.7900\n",
            "Epoch 64/200\n",
            "200/200 [==============================] - 1s 5ms/step - loss: 0.4524 - accuracy: 0.7900 - val_loss: 0.4257 - val_accuracy: 0.7969\n",
            "Epoch 65/200\n",
            "200/200 [==============================] - 1s 3ms/step - loss: 0.4534 - accuracy: 0.7961 - val_loss: 0.4446 - val_accuracy: 0.7844\n",
            "Epoch 66/200\n",
            "200/200 [==============================] - 1s 3ms/step - loss: 0.4526 - accuracy: 0.7937 - val_loss: 0.4535 - val_accuracy: 0.7731\n",
            "Epoch 67/200\n",
            "200/200 [==============================] - 0s 2ms/step - loss: 0.4520 - accuracy: 0.7912 - val_loss: 0.4528 - val_accuracy: 0.7819\n",
            "Epoch 68/200\n",
            "200/200 [==============================] - 1s 4ms/step - loss: 0.4522 - accuracy: 0.7931 - val_loss: 0.4441 - val_accuracy: 0.7837\n",
            "Epoch 69/200\n",
            "200/200 [==============================] - 1s 7ms/step - loss: 0.4518 - accuracy: 0.7942 - val_loss: 0.4569 - val_accuracy: 0.7763\n",
            "Epoch 70/200\n",
            "200/200 [==============================] - 2s 10ms/step - loss: 0.4518 - accuracy: 0.7931 - val_loss: 0.4703 - val_accuracy: 0.7706\n",
            "Epoch 71/200\n",
            "200/200 [==============================] - 3s 15ms/step - loss: 0.4519 - accuracy: 0.7894 - val_loss: 0.4348 - val_accuracy: 0.7912\n",
            "Epoch 72/200\n",
            "200/200 [==============================] - 3s 13ms/step - loss: 0.4516 - accuracy: 0.7917 - val_loss: 0.4601 - val_accuracy: 0.7731\n",
            "Epoch 73/200\n",
            "200/200 [==============================] - 2s 9ms/step - loss: 0.4518 - accuracy: 0.7911 - val_loss: 0.4604 - val_accuracy: 0.7756\n",
            "Epoch 74/200\n",
            "200/200 [==============================] - 2s 12ms/step - loss: 0.4518 - accuracy: 0.7919 - val_loss: 0.4334 - val_accuracy: 0.7906\n",
            "Epoch 75/200\n",
            "200/200 [==============================] - 1s 3ms/step - loss: 0.4524 - accuracy: 0.7945 - val_loss: 0.4635 - val_accuracy: 0.7688\n",
            "Epoch 76/200\n",
            "200/200 [==============================] - 1s 3ms/step - loss: 0.4516 - accuracy: 0.7930 - val_loss: 0.4635 - val_accuracy: 0.7713\n",
            "Epoch 77/200\n",
            "200/200 [==============================] - 0s 2ms/step - loss: 0.4512 - accuracy: 0.7923 - val_loss: 0.4673 - val_accuracy: 0.7669\n",
            "Epoch 78/200\n",
            "200/200 [==============================] - 1s 4ms/step - loss: 0.4513 - accuracy: 0.7931 - val_loss: 0.4595 - val_accuracy: 0.7694\n",
            "Epoch 78: early stopping\n"
          ]
        }
      ]
    },
    {
      "cell_type": "code",
      "source": [
        "# prediction\n",
        "y_log = model2.predict(X_test)\n",
        "# note: we are using sigmoid, so real will be in 0 to 1"
      ],
      "metadata": {
        "colab": {
          "base_uri": "https://localhost:8080/"
        },
        "id": "X702dYSPak5h",
        "outputId": "081a2e80-e0bf-408e-97ff-6df342f3de00"
      },
      "id": "X702dYSPak5h",
      "execution_count": 43,
      "outputs": [
        {
          "output_type": "stream",
          "name": "stdout",
          "text": [
            "63/63 [==============================] - 0s 1ms/step\n"
          ]
        }
      ]
    },
    {
      "cell_type": "code",
      "source": [
        "y_pred = np.where(y_log>0.5,1,0) # this means if y_log > 0.5 then 1 else 0"
      ],
      "metadata": {
        "id": "BAfQVX-4aqSg"
      },
      "id": "BAfQVX-4aqSg",
      "execution_count": 44,
      "outputs": []
    },
    {
      "cell_type": "code",
      "source": [
        "accuracy_score(y_test,y_pred)"
      ],
      "metadata": {
        "colab": {
          "base_uri": "https://localhost:8080/"
        },
        "id": "TaHaFJ9batkG",
        "outputId": "49311363-93d9-4680-c820-42372287011d"
      },
      "id": "TaHaFJ9batkG",
      "execution_count": 45,
      "outputs": [
        {
          "output_type": "execute_result",
          "data": {
            "text/plain": [
              "0.7605"
            ]
          },
          "metadata": {},
          "execution_count": 45
        }
      ]
    },
    {
      "cell_type": "code",
      "source": [
        "confusion_matrix(y_test,y_pred)"
      ],
      "metadata": {
        "colab": {
          "base_uri": "https://localhost:8080/"
        },
        "id": "TKqKFn9vayg3",
        "outputId": "eab20f0f-34c5-4ba2-ac9f-0478b87218ac"
      },
      "id": "TKqKFn9vayg3",
      "execution_count": 46,
      "outputs": [
        {
          "output_type": "execute_result",
          "data": {
            "text/plain": [
              "array([[1227,  380],\n",
              "       [  99,  294]])"
            ]
          },
          "metadata": {},
          "execution_count": 46
        }
      ]
    },
    {
      "cell_type": "code",
      "source": [
        "history.history.keys()"
      ],
      "metadata": {
        "colab": {
          "base_uri": "https://localhost:8080/"
        },
        "id": "vh4bwoRJazMv",
        "outputId": "0ada3338-d1f4-41da-e109-9ccc43d1fab3"
      },
      "id": "vh4bwoRJazMv",
      "execution_count": 47,
      "outputs": [
        {
          "output_type": "execute_result",
          "data": {
            "text/plain": [
              "dict_keys(['loss', 'accuracy', 'val_loss', 'val_accuracy'])"
            ]
          },
          "metadata": {},
          "execution_count": 47
        }
      ]
    },
    {
      "cell_type": "code",
      "source": [
        "for i in history.history:\n",
        "    print(i,history.history[i],'\\n')"
      ],
      "metadata": {
        "colab": {
          "base_uri": "https://localhost:8080/"
        },
        "id": "PfrBSAYua3hY",
        "outputId": "864cd2c2-4ead-4819-9862-e5165d04e6af"
      },
      "id": "PfrBSAYua3hY",
      "execution_count": 48,
      "outputs": [
        {
          "output_type": "stream",
          "name": "stdout",
          "text": [
            "loss [0.7148268222808838, 0.6455080509185791, 0.6100640296936035, 0.5832975506782532, 0.5651432275772095, 0.5502540469169617, 0.5371506214141846, 0.5241169929504395, 0.5123528242111206, 0.502471923828125, 0.4937436580657959, 0.48672565817832947, 0.4819246530532837, 0.47874915599823, 0.4756139814853668, 0.47336673736572266, 0.4719682037830353, 0.4697802662849426, 0.4696944057941437, 0.46750861406326294, 0.4678870141506195, 0.4659346640110016, 0.46591925621032715, 0.46512994170188904, 0.4650091826915741, 0.46310365200042725, 0.4628799855709076, 0.46225491166114807, 0.46228349208831787, 0.46100014448165894, 0.46114209294319153, 0.4605391323566437, 0.4601321816444397, 0.45978179574012756, 0.45982903242111206, 0.4593489468097687, 0.45830386877059937, 0.45839619636535645, 0.45765072107315063, 0.45845749974250793, 0.45724326372146606, 0.4573790431022644, 0.4566342532634735, 0.4566112458705902, 0.4557623565196991, 0.45633044838905334, 0.4553104639053345, 0.4557453393936157, 0.4554378092288971, 0.45505931973457336, 0.45433467626571655, 0.4546104669570923, 0.4541790783405304, 0.45408615469932556, 0.45460399985313416, 0.4540015757083893, 0.4538276791572571, 0.45296719670295715, 0.4539538621902466, 0.4533342123031616, 0.4529407024383545, 0.45334240794181824, 0.4523768126964569, 0.4523637890815735, 0.4534405469894409, 0.45259881019592285, 0.4519537687301636, 0.45219776034355164, 0.45184025168418884, 0.4518323540687561, 0.4518544375896454, 0.45155876874923706, 0.45177149772644043, 0.45178648829460144, 0.45241087675094604, 0.45157214999198914, 0.45121338963508606, 0.4513326585292816] \n",
            "\n",
            "accuracy [0.6360937356948853, 0.6365625262260437, 0.6754687428474426, 0.6860937476158142, 0.702343761920929, 0.7129687666893005, 0.7237499952316284, 0.7407812476158142, 0.7410937547683716, 0.7534375190734863, 0.7545312643051147, 0.7604687213897705, 0.7670312523841858, 0.765625, 0.7710937261581421, 0.7717187404632568, 0.7731249928474426, 0.7768750190734863, 0.7732812762260437, 0.7728124856948853, 0.7768750190734863, 0.7848437428474426, 0.7787500023841858, 0.7776562571525574, 0.776562511920929, 0.7840625047683716, 0.7760937213897705, 0.7809374928474426, 0.7837499976158142, 0.78125, 0.7857812643051147, 0.7854687571525574, 0.7850000262260437, 0.7870312333106995, 0.7837499976158142, 0.7825000286102295, 0.7892187237739563, 0.7867187261581421, 0.7831249833106995, 0.79296875, 0.788281261920929, 0.782031238079071, 0.7889062762260437, 0.7887499928474426, 0.7906249761581421, 0.7857812643051147, 0.7857812643051147, 0.7925000190734863, 0.792187511920929, 0.7931249737739563, 0.7862499952316284, 0.7890625, 0.7923437356948853, 0.7912499904632568, 0.7885937690734863, 0.7906249761581421, 0.7903125286102295, 0.7896875143051147, 0.7928125262260437, 0.7917187213897705, 0.7917187213897705, 0.7920312285423279, 0.7893750071525574, 0.7900000214576721, 0.796093761920929, 0.793749988079071, 0.7912499904632568, 0.7931249737739563, 0.7942187786102295, 0.7931249737739563, 0.7893750071525574, 0.7917187213897705, 0.7910937666893005, 0.7918750047683716, 0.7945312261581421, 0.79296875, 0.7923437356948853, 0.7931249737739563] \n",
            "\n",
            "val_loss [0.6460511088371277, 0.6033716797828674, 0.5869153141975403, 0.5696327090263367, 0.5718083381652832, 0.5532100796699524, 0.5356104969978333, 0.5369619131088257, 0.520275354385376, 0.521994948387146, 0.5085418820381165, 0.47041213512420654, 0.49990004301071167, 0.4900093078613281, 0.4788264334201813, 0.48875340819358826, 0.48122403025627136, 0.4782352149486542, 0.45848309993743896, 0.4438786804676056, 0.4514339864253998, 0.4774165749549866, 0.48765814304351807, 0.47096511721611023, 0.4623035192489624, 0.4854929447174072, 0.4521108865737915, 0.4589410424232483, 0.4693028926849365, 0.4553762674331665, 0.4583205282688141, 0.45393577218055725, 0.4823208153247833, 0.4928712546825409, 0.46128562092781067, 0.4521431028842926, 0.47145625948905945, 0.4685415029525757, 0.43255814909935, 0.45436519384384155, 0.46485719084739685, 0.4577714502811432, 0.4556526839733124, 0.46702247858047485, 0.47120511531829834, 0.477289080619812, 0.44101986289024353, 0.45590677857398987, 0.45651063323020935, 0.4706716537475586, 0.4537650942802429, 0.4463070034980774, 0.47789493203163147, 0.47705695033073425, 0.46171873807907104, 0.45438477396965027, 0.4543638229370117, 0.4199760854244232, 0.43729743361473083, 0.4525238871574402, 0.43980422616004944, 0.4560491442680359, 0.43695148825645447, 0.42571407556533813, 0.44464024901390076, 0.45349615812301636, 0.45280829071998596, 0.4440845549106598, 0.4569355249404907, 0.47034698724746704, 0.43479007482528687, 0.46009281277656555, 0.4603952467441559, 0.43344730138778687, 0.46352362632751465, 0.4634939432144165, 0.4672790467739105, 0.45952847599983215] \n",
            "\n",
            "val_accuracy [0.609375, 0.6656249761581421, 0.6800000071525574, 0.6981250047683716, 0.7012500166893005, 0.7168750166893005, 0.7275000214576721, 0.7300000190734863, 0.7406250238418579, 0.7406250238418579, 0.75, 0.7668750286102295, 0.7450000047683716, 0.7518749833106995, 0.7581250071525574, 0.7537500262260437, 0.7612500190734863, 0.7562500238418579, 0.7762500047683716, 0.7862499952316284, 0.7806249856948853, 0.7649999856948853, 0.7593749761581421, 0.7712500095367432, 0.7731249928474426, 0.7581250071525574, 0.78125, 0.7787500023841858, 0.7712500095367432, 0.778124988079071, 0.7793750166893005, 0.7793750166893005, 0.7631250023841858, 0.7593749761581421, 0.7806249856948853, 0.7831249833106995, 0.7737500071525574, 0.7743750214576721, 0.7931249737739563, 0.7787500023841858, 0.7737500071525574, 0.7787500023841858, 0.7799999713897705, 0.7749999761581421, 0.7718750238418579, 0.7706249952316284, 0.7881249785423279, 0.78125, 0.7774999737739563, 0.7724999785423279, 0.7806249856948853, 0.7875000238418579, 0.765625, 0.7706249952316284, 0.778124988079071, 0.7799999713897705, 0.7768750190734863, 0.8006250262260437, 0.7887499928474426, 0.7762500047683716, 0.7850000262260437, 0.7787500023841858, 0.7900000214576721, 0.796875, 0.784375011920929, 0.7731249928474426, 0.7818750143051147, 0.7837499976158142, 0.7762500047683716, 0.7706249952316284, 0.7912499904632568, 0.7731249928474426, 0.7756249904632568, 0.7906249761581421, 0.768750011920929, 0.7712500095367432, 0.7668750286102295, 0.7693750262260437] \n",
            "\n"
          ]
        }
      ]
    },
    {
      "cell_type": "code",
      "source": [
        "plt.figure(figsize=(15,5))\n",
        "plt.subplot(121)\n",
        "plt.plot(history.history['loss'],label='Train')\n",
        "plt.plot(history.history['val_loss'],label='Test')\n",
        "plt.legend()\n",
        "plt.xlabel('Epoch')\n",
        "plt.ylabel('Loss')\n",
        "plt.title('Model Loss History')\n",
        "\n",
        "plt.subplot(122)\n",
        "plt.plot(history.history['accuracy'],label='Train')\n",
        "plt.plot(history.history['val_accuracy'],label='Test')\n",
        "plt.legend()\n",
        "plt.xlabel('Epoch')\n",
        "plt.ylabel('Accuracy')\n",
        "plt.title('Model Accuracy History')"
      ],
      "metadata": {
        "colab": {
          "base_uri": "https://localhost:8080/",
          "height": 387
        },
        "id": "x3030tHBa6aI",
        "outputId": "ab1293e1-c5db-43c3-c189-2ebae40476cf"
      },
      "id": "x3030tHBa6aI",
      "execution_count": 49,
      "outputs": [
        {
          "output_type": "execute_result",
          "data": {
            "text/plain": [
              "Text(0.5, 1.0, 'Model Accuracy History')"
            ]
          },
          "metadata": {},
          "execution_count": 49
        },
        {
          "output_type": "display_data",
          "data": {
            "text/plain": [
              "<Figure size 1500x500 with 2 Axes>"
            ],
            "image/png": "[encoded data removed]"
          },
          "metadata": {}
        }
      ]
    },
    {
      "cell_type": "markdown",
      "source": [
        "# Final Model and Model Deployment"
      ],
      "metadata": {
        "id": "wRXT5RjTZ01m"
      },
      "id": "wRXT5RjTZ01m"
    },
    {
      "cell_type": "code",
      "source": [
        "from tensorflow.keras.models import Model\n",
        "from tensorflow.keras.models import load_model\n",
        "\n",
        "# save model\n",
        "model.save('best_model.h5')\n",
        "print('Model Saved!')\n",
        "\n",
        "# load model\n",
        "savedModel=load_model('best_model.h5')\n",
        "savedModel.summary()"
      ],
      "metadata": {
        "colab": {
          "base_uri": "https://localhost:8080/"
        },
        "id": "6MhYZuJObaSw",
        "outputId": "305520f9-eeed-4704-a0aa-c665c0056e72"
      },
      "id": "6MhYZuJObaSw",
      "execution_count": 52,
      "outputs": [
        {
          "output_type": "stream",
          "name": "stdout",
          "text": [
            "Model Saved!\n",
            "Model: \"sequential\"\n",
            "_________________________________________________________________\n",
            " Layer (type)                Output Shape              Param #   \n",
            "=================================================================\n",
            " dense (Dense)               (None, 10)                120       \n",
            "                                                                 \n",
            " dense_1 (Dense)             (None, 5)                 55        \n",
            "                                                                 \n",
            " dense_2 (Dense)             (None, 1)                 6         \n",
            "                                                                 \n",
            "=================================================================\n",
            "Total params: 181 (724.00 Byte)\n",
            "Trainable params: 181 (724.00 Byte)\n",
            "Non-trainable params: 0 (0.00 Byte)\n",
            "_________________________________________________________________\n"
          ]
        },
        {
          "output_type": "stream",
          "name": "stderr",
          "text": [
            "/usr/local/lib/python3.10/dist-packages/keras/src/engine/training.py:3079: UserWarning: You are saving your model as an HDF5 file via `model.save()`. This file format is considered legacy. We recommend using instead the native Keras format, e.g. `model.save('my_model.keras')`.\n",
            "  saving_api.save_model(\n"
          ]
        }
      ]
    },
    {
      "cell_type": "markdown",
      "source": [
        "## Prediction"
      ],
      "metadata": {
        "id": "0lTk_oFpbUrh"
      },
      "id": "0lTk_oFpbUrh"
    },
    {
      "cell_type": "code",
      "source": [
        "savedModel.predict(X_test)"
      ],
      "metadata": {
        "colab": {
          "base_uri": "https://localhost:8080/"
        },
        "id": "_xI5gaLEblZe",
        "outputId": "49cb202a-8327-4256-aa83-1dd4f52fe4cc"
      },
      "id": "_xI5gaLEblZe",
      "execution_count": 54,
      "outputs": [
        {
          "output_type": "stream",
          "name": "stdout",
          "text": [
            "63/63 [==============================] - 0s 2ms/step\n"
          ]
        },
        {
          "output_type": "execute_result",
          "data": {
            "text/plain": [
              "array([[0.03774887],\n",
              "       [0.03769207],\n",
              "       [0.08485562],\n",
              "       ...,\n",
              "       [0.63824314],\n",
              "       [0.07999431],\n",
              "       [0.2728703 ]], dtype=float32)"
            ]
          },
          "metadata": {},
          "execution_count": 54
        }
      ]
    },
    {
      "cell_type": "markdown",
      "source": [
        "___\n",
        "\n",
        "<p style=\"text-align: center;\"><img src=\"https://docs.google.com/uc?id=1lY0Uj5R04yMY3-ZppPWxqCr5pvBLYPnV\" class=\"img-fluid\" alt=\"CLRSWY\"></p>\n",
        "\n",
        "___"
      ],
      "metadata": {
        "id": "q-3Kic2rbs8-"
      },
      "id": "q-3Kic2rbs8-"
    }
  ],
  "metadata": {
    "kernelspec": {
      "display_name": "Python 3",
      "language": "python",
      "name": "python3"
    },
    "language_info": {
      "codemirror_mode": {
        "name": "ipython",
        "version": 3
      },
      "file_extension": ".py",
      "mimetype": "text/x-python",
      "name": "python",
      "nbconvert_exporter": "python",
      "pygments_lexer": "ipython3",
      "version": "3.7.12"
    },
    "papermill": {
      "default_parameters": {},
      "duration": 106.361832,
      "end_time": "2022-05-27T15:05:52.282224",
      "environment_variables": {},
      "exception": null,
      "input_path": "__notebook__.ipynb",
      "output_path": "__notebook__.ipynb",
      "parameters": {},
      "start_time": "2022-05-27T15:04:05.920392",
      "version": "2.3.4"
    },
    "colab": {
      "provenance": []
    }
  },
  "nbformat": 4,
  "nbformat_minor": 5
}